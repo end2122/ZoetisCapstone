{
 "cells": [
  {
   "cell_type": "markdown",
   "metadata": {},
   "source": [
    "### Set up master path"
   ]
  },
  {
   "cell_type": "code",
   "execution_count": null,
   "metadata": {},
   "outputs": [],
   "source": [
    "path_master = r'C:/Users/endwy/Documents/Columbia MSBA/Spring 2019/E4524 - Analytics in Practice/Data/Csv/'"
   ]
  },
  {
   "cell_type": "markdown",
   "metadata": {},
   "source": [
    "### ABR_1 Cleaning"
   ]
  },
  {
   "cell_type": "code",
   "execution_count": null,
   "metadata": {},
   "outputs": [],
   "source": [
    "import pandas as pd\n",
    "with open(path_master+'April 2017 - Antibiotic by Risk1.csv') as fp:\n",
    "    df_ABR1 = pd.read_csv(fp,\n",
    "                          skiprows=[0], \n",
    "                          usecols=['Unnamed: 1', 'Treated', 'Repulls', 'Mortalities', 'Treatment Success',\n",
    "                                   'Case Fatality Rate','$/Hd/Rx', 'Treatment $'])\n",
    "df_ABR1.rename(columns={'Unnamed: 1': 'Drug'}, inplace=True)"
   ]
  },
  {
   "cell_type": "code",
   "execution_count": null,
   "metadata": {},
   "outputs": [],
   "source": [
    "# Remove dashes from columns\n",
    "for i in range(len(df_ABR1)):\n",
    "    for j in ['Treated','Repulls','Mortalities']:\n",
    "        if df_ABR1.iloc[i].loc[j] == '-':\n",
    "            df_ABR1.iloc[i].loc[j] = 0\n",
    "        else:\n",
    "            m = df_ABR1.iloc[i].loc[j]\n",
    "            m = m.replace(' ','')\n",
    "            df_ABR1.iloc[i].loc[j] = m.replace(',','')"
   ]
  },
  {
   "cell_type": "code",
   "execution_count": null,
   "metadata": {},
   "outputs": [],
   "source": [
    "# Change str -> int for numerical columns\n",
    "df_ABR1['Treated'] = df_ABR1['Treated'].apply(lambda x: int(x))\n",
    "df_ABR1['Repulls'] = df_ABR1['Repulls'].apply(lambda x: int(x))\n",
    "df_ABR1['Mortalities'] = df_ABR1['Mortalities'].apply(lambda x: int(x))"
   ]
  },
  {
   "cell_type": "code",
   "execution_count": null,
   "metadata": {},
   "outputs": [],
   "source": [
    "# Remove dollar signs from columns\n",
    "df_ABR1['Treatment $'] = df_ABR1['Treatment $'].apply(lambda x: x[1:])\n",
    "df_ABR1['$/Hd/Rx'] = df_ABR1['$/Hd/Rx'].apply(lambda x: x[1:])\n",
    "\n",
    "# Remove dashes from columns\n",
    "for i in range(len(df_ABR1)):\n",
    "    for j in ['$/Hd/Rx','Treatment $']:\n",
    "        if df_ABR1.iloc[i].loc[j] == '-':\n",
    "            df_ABR1.iloc[i].loc[j] = 0.0\n",
    "        else:\n",
    "            m = df_ABR1.iloc[i].loc[j]\n",
    "            df_ABR1.iloc[i].loc[j] = m.replace(',','')\n",
    "            m = m.replace(' ','')\n",
    "            df_ABR1.iloc[i].loc[j] = m.replace(',','')\n",
    "\n",
    "# Change str -> float for numerical columns\n",
    "df_ABR1['Treatment $'] = df_ABR1['Treatment $'].apply(lambda x: float(x))\n",
    "df_ABR1['$/Hd/Rx'] = df_ABR1['$/Hd/Rx'].apply(lambda x: float(x))"
   ]
  },
  {
   "cell_type": "code",
   "execution_count": null,
   "metadata": {},
   "outputs": [],
   "source": [
    "# Remove percent signs from columns and convery str -> float\n",
    "df_ABR1['Treatment Success'] = df_ABR1['Treatment Success'].apply(lambda x: float(x[:-1]))\n",
    "df_ABR1['Case Fatality Rate'] = df_ABR1['Case Fatality Rate'].apply(lambda x: float(x[:-1]))"
   ]
  },
  {
   "cell_type": "markdown",
   "metadata": {},
   "source": [
    "### ABR_2 Cleaning/Merge"
   ]
  },
  {
   "cell_type": "code",
   "execution_count": null,
   "metadata": {},
   "outputs": [],
   "source": [
    "import pandas as pd\n",
    "with open(path_master+'April 2017 - Antibiotic by Risk2.csv') as fp:\n",
    "    df_ABR2 = pd.read_csv(fp)\n",
    "df_ABR2.head()"
   ]
  },
  {
   "cell_type": "code",
   "execution_count": null,
   "metadata": {},
   "outputs": [],
   "source": [
    "df_ABR1.head()"
   ]
  },
  {
   "cell_type": "markdown",
   "metadata": {},
   "source": [
    "### ABR_3 Cleaning/Merge"
   ]
  },
  {
   "cell_type": "code",
   "execution_count": null,
   "metadata": {},
   "outputs": [],
   "source": [
    "import pandas as pd\n",
    "with open(path_master+'April 2017 - Antibiotic by Risk3.csv') as fp:\n",
    "    df_ABR3 = pd.read_csv(fp, \n",
    "                          usecols=['0','1','2','3','4','5','6','8','10'],\n",
    "                         keep_default_na=False)\n",
    "df_ABR3.rename(columns={'0':'Drug', '1':'Treated', '2':'Repulls', '3':'Mortalities', '4':'MortalitiesB', \n",
    "                        '5':'Treatment Success', '6':'Case Fatality Rate', '8':'$/Hd/Rx','10':'Treatment $'}, inplace=True)"
   ]
  },
  {
   "cell_type": "code",
   "execution_count": null,
   "metadata": {},
   "outputs": [],
   "source": [
    "# Concatenate mortalities column\n",
    "for i in range(len(df_ABR3)):\n",
    "    df_ABR3.iloc[i].loc['Mortalities'] = (df_ABR3.iloc[i].loc['Mortalities'])+(df_ABR3.iloc[i].loc['MortalitiesB'])\n",
    "del df_ABR3['MortalitiesB']\n",
    "df_ABR3.head()"
   ]
  },
  {
   "cell_type": "markdown",
   "metadata": {},
   "source": [
    "### Run this below to convert to .py file before pushing to GitHub"
   ]
  },
  {
   "cell_type": "code",
   "execution_count": null,
   "metadata": {},
   "outputs": [],
   "source": [
    "!jupyter nbconvert --to script Antibiotics_by_Risk.ipynb"
   ]
  }
 ],
 "metadata": {
  "kernelspec": {
   "display_name": "Python 3",
   "language": "python",
   "name": "python3"
  },
  "language_info": {
   "codemirror_mode": {
    "name": "ipython",
    "version": 3
   },
   "file_extension": ".py",
   "mimetype": "text/x-python",
   "name": "python",
   "nbconvert_exporter": "python",
   "pygments_lexer": "ipython3",
   "version": "3.7.0"
  }
 },
 "nbformat": 4,
 "nbformat_minor": 2
}
