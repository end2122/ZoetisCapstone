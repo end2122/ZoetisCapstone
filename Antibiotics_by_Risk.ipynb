{
 "cells": [
  {
   "cell_type": "markdown",
   "metadata": {},
   "source": [
    "### Set up master path"
   ]
  },
  {
   "cell_type": "code",
   "execution_count": null,
   "metadata": {},
   "outputs": [],
   "source": [
    "path_master = r'C:/Users/endwy/Documents/Columbia MSBA/Spring 2019/E4524 - Analytics in Practice/Data/Csv/'"
   ]
  },
  {
   "cell_type": "markdown",
   "metadata": {},
   "source": [
    "### Create List with ABR file names to iterate through"
   ]
  },
  {
   "cell_type": "code",
   "execution_count": null,
   "metadata": {},
   "outputs": [],
   "source": [
    "import re\n",
    "import os\n",
    "\n",
    "#read in all CSV file names\n",
    "file_names = [filename for filename in files for path,subdirs,files in os.walk(path_master)]\n",
    "\n",
    "#segment out ABR files\n",
    "pattern = r'Antibiotic by Risk'\n",
    "ABR_file_names = [file_name for file_name in file_names if re.search(pattern=pattern, string=file_name)]       \n",
    "        \n",
    "print(ABR_file_names)"
   ]
  },
  {
   "cell_type": "markdown",
   "metadata": {},
   "source": [
    "### ABR_1 Import"
   ]
  },
  {
   "cell_type": "code",
   "execution_count": null,
   "metadata": {},
   "outputs": [],
   "source": [
    "import pandas as pd\n",
    "with open(path_master+'April 2017 - Antibiotic by Risk1.csv') as fp:\n",
    "    df_ABR1 = pd.read_csv(fp,\n",
    "                          skiprows=[0], \n",
    "                          usecols=['Unnamed: 1', 'Treated', 'Repulls', 'Mortalities', 'Treatment Success',\n",
    "                                   'Case Fatality Rate','$/Hd/Rx', 'Treatment $'])\n",
    "df_ABR1.rename(columns={'Unnamed: 1': 'Drug'}, inplace=True)"
   ]
  },
  {
   "cell_type": "markdown",
   "metadata": {},
   "source": [
    "### ABR_2 Import\n",
    "##### 11 columns, repulls split into 2 columns"
   ]
  },
  {
   "cell_type": "code",
   "execution_count": null,
   "metadata": {},
   "outputs": [],
   "source": [
    "import pandas as pd\n",
    "with open(path_master+'April 2017 - Antibiotic by Risk2.csv') as fp:\n",
    "    df_ABR2 = pd.read_csv(fp,\n",
    "                         usecols=['0','1','2','3','4','5','6','8','10','11'],\n",
    "                         keep_default_na=False)\n",
    "\n",
    "df_ABR2.rename(columns={'0':'Drug', '1':'Treated', '2':'Repulls', '3':'RepullsB', '4':'Mortalities', \n",
    "                        '5':'Treatment Success', '6':'Case Fatality Rate', '8':'$/Hd/Rx',\n",
    "                        '10':'Treatment $','11':'Treatment $B'}, inplace=True)\n",
    "# Concatenate Treatment $ column\n",
    "for i in range(len(df_ABR2)):\n",
    "    df_ABR2.iloc[i].loc['Treatment $'] = (df_ABR2.iloc[i].loc['Treatment $'])+(df_ABR2.iloc[i].loc['Treatment $B'])\n",
    "del df_ABR2['Treatment $B']\n",
    "\n",
    "for i in range(len(df_ABR2)):\n",
    "    df_ABR2.iloc[i].loc['Repulls'] = (df_ABR2.iloc[i].loc['Repulls'])+(df_ABR2.iloc[i].loc['RepullsB'])\n",
    "del df_ABR2['RepullsB']"
   ]
  },
  {
   "cell_type": "markdown",
   "metadata": {},
   "source": [
    "### ABR_3 Import\n",
    "##### 10 columns, mortalities is split into 2 columns"
   ]
  },
  {
   "cell_type": "code",
   "execution_count": null,
   "metadata": {},
   "outputs": [],
   "source": [
    "import pandas as pd\n",
    "with open(path_master+'April 2017 - Antibiotic by Risk3.csv') as fp:\n",
    "    df_ABR3 = pd.read_csv(fp, \n",
    "                          usecols=['0','1','2','3','4','5','6','8','10'],\n",
    "                         keep_default_na=False)\n",
    "df_ABR3.rename(columns={'0':'Drug', '1':'Treated', '2':'Repulls', '3':'Mortalities', '4':'MortalitiesB', \n",
    "                        '5':'Treatment Success', '6':'Case Fatality Rate', '8':'$/Hd/Rx','10':'Treatment $'}, inplace=True)\n",
    "\n",
    "# Concatenate mortalities column\n",
    "for i in range(len(df_ABR3)):\n",
    "    df_ABR3.iloc[i].loc['Mortalities'] = (df_ABR3.iloc[i].loc['Mortalities'])+(df_ABR3.iloc[i].loc['MortalitiesB'])\n",
    "del df_ABR3['MortalitiesB']"
   ]
  },
  {
   "cell_type": "markdown",
   "metadata": {},
   "source": [
    "### ABR_4 Import\n",
    "##### 9 columns, same as ABR_1, no separate cleaning needed"
   ]
  },
  {
   "cell_type": "code",
   "execution_count": null,
   "metadata": {},
   "outputs": [],
   "source": [
    "import pandas as pd\n",
    "with open(path_master+'April 2017 - Antibiotic by Risk4.csv') as fp:\n",
    "    df_ABR4 = pd.read_csv(fp,\n",
    "                         usecols=['0','1','2','3','4','5','7','9'])"
   ]
  },
  {
   "cell_type": "markdown",
   "metadata": {},
   "source": [
    "### ABR_5 Import\n",
    "##### 10 columns, Mortalities split into 2 columns"
   ]
  },
  {
   "cell_type": "code",
   "execution_count": null,
   "metadata": {},
   "outputs": [],
   "source": [
    "import pandas as pd\n",
    "with open(path_master+'April 2017 - Antibiotic by Risk5.csv') as fp:\n",
    "    df_ABR5 = pd.read_csv(fp)"
   ]
  },
  {
   "cell_type": "markdown",
   "metadata": {},
   "source": [
    "### Fully merge all ABR versions onto df_ABR"
   ]
  },
  {
   "cell_type": "code",
   "execution_count": null,
   "metadata": {},
   "outputs": [],
   "source": [
    "frames = [df_ABR1, df_ABR2, df_ABR3]\n",
    "df_ABR = pd.concat(frames)"
   ]
  },
  {
   "cell_type": "markdown",
   "metadata": {},
   "source": [
    "### Function to clean fully merged df_ABR columns"
   ]
  },
  {
   "cell_type": "code",
   "execution_count": null,
   "metadata": {},
   "outputs": [],
   "source": [
    "def convert_1(x):\n",
    "    if re.search(pattern = r'\\w+',string=x):\n",
    "        return x\n",
    "    x=x.strip()\n",
    "    if x[-1]=='%':\n",
    "        return float(x.replace('%,'))\n",
    "    if x=='-':\n",
    "        return 0\n",
    "    if x[0]=='$':\n",
    "        return float(x[1:].replace(',','').replace('-','0'))\n",
    "\n",
    "def convert_2(x):\n",
    "    return None\n",
    "\n",
    "def convert_3(x):\n",
    "    return None"
   ]
  },
  {
   "cell_type": "code",
   "execution_count": null,
   "metadata": {},
   "outputs": [],
   "source": [
    "def ABR_Clean(df):\n",
    "    \"\"\"Cleans fully merged df_ABR columns to ensure appropriate dtypes/formats\"\"\"\n",
    "    if len(df.columns)==10:\n",
    "        for col in df.columns:\n",
    "            df[col]=df[col].apply(convert_1)\n",
    "    else if len(df.columns)==11:\n",
    "        for col in df.columns:\n",
    "            df[col]=df[col].apply(convert_2)\n",
    "    else:\n",
    "        for col in df.columns:\n",
    "            df[col]=df[col].apply(convert_3)"
   ]
  },
  {
   "cell_type": "markdown",
   "metadata": {},
   "source": [
    "### Run this below to convert to .py file before pushing to GitHub"
   ]
  },
  {
   "cell_type": "code",
   "execution_count": null,
   "metadata": {},
   "outputs": [],
   "source": [
    "!jupyter nbconvert --to script Antibiotics_by_Risk.ipynb"
   ]
  },
  {
   "cell_type": "code",
   "execution_count": null,
   "metadata": {},
   "outputs": [],
   "source": []
  },
  {
   "cell_type": "code",
   "execution_count": null,
   "metadata": {},
   "outputs": [],
   "source": []
  },
  {
   "cell_type": "code",
   "execution_count": null,
   "metadata": {},
   "outputs": [],
   "source": []
  },
  {
   "cell_type": "code",
   "execution_count": null,
   "metadata": {},
   "outputs": [],
   "source": []
  },
  {
   "cell_type": "markdown",
   "metadata": {},
   "source": [
    "### Previous ABR_Clean Version"
   ]
  },
  {
   "cell_type": "code",
   "execution_count": null,
   "metadata": {},
   "outputs": [],
   "source": [
    "# Remove dashes from columns\n",
    "for i in range(len(df_ABR1)):\n",
    "    for j in ['Treated','Repulls','Mortalities']:\n",
    "        if df_ABR1.iloc[i].loc[j] == '-':\n",
    "            df_ABR1.iloc[i].loc[j] = 0\n",
    "        else:\n",
    "            m = df_ABR1.iloc[i].loc[j]\n",
    "            m = m.replace(' ','')\n",
    "            df_ABR1.iloc[i].loc[j] = m.replace(',','')\n",
    "\n",
    "# Change str -> int for numerical columns\n",
    "df_ABR1['Treated'] = df_ABR1['Treated'].apply(lambda x: int(x))\n",
    "df_ABR1['Repulls'] = df_ABR1['Repulls'].apply(lambda x: int(x))\n",
    "df_ABR1['Mortalities'] = df_ABR1['Mortalities'].apply(lambda x: int(x))\n",
    "\n",
    "# Remove dollar signs from columns\n",
    "df_ABR1['Treatment $'] = df_ABR1['Treatment $'].apply(lambda x: x[1:])\n",
    "df_ABR1['$/Hd/Rx'] = df_ABR1['$/Hd/Rx'].apply(lambda x: x[1:])\n",
    "\n",
    "# Remove dashes from columns\n",
    "for i in range(len(df_ABR1)):\n",
    "    for j in ['$/Hd/Rx','Treatment $']:\n",
    "        if df_ABR1.iloc[i].loc[j] == '-':\n",
    "            df_ABR1.iloc[i].loc[j] = 0.0\n",
    "        else:\n",
    "            m = df_ABR1.iloc[i].loc[j]\n",
    "            df_ABR1.iloc[i].loc[j] = m.replace(',','')\n",
    "            m = m.replace(' ','')\n",
    "            df_ABR1.iloc[i].loc[j] = m.replace(',','')\n",
    "\n",
    "# Change str -> float for numerical columns\n",
    "df_ABR1['Treatment $'] = df_ABR1['Treatment $'].apply(lambda x: float(x))\n",
    "df_ABR1['$/Hd/Rx'] = df_ABR1['$/Hd/Rx'].apply(lambda x: float(x))\n",
    "\n",
    "# Remove percent signs from columns and convery str -> float\n",
    "df_ABR1['Treatment Success'] = df_ABR1['Treatment Success'].apply(lambda x: float(x[:-1]))\n",
    "df_ABR1['Case Fatality Rate'] = df_ABR1['Case Fatality Rate'].apply(lambda x: float(x[:-1]))"
   ]
  }
 ],
 "metadata": {
  "kernelspec": {
   "display_name": "Python 3",
   "language": "python",
   "name": "python3"
  },
  "language_info": {
   "codemirror_mode": {
    "name": "ipython",
    "version": 3
   },
   "file_extension": ".py",
   "mimetype": "text/x-python",
   "name": "python",
   "nbconvert_exporter": "python",
   "pygments_lexer": "ipython3",
   "version": "3.7.0"
  }
 },
 "nbformat": 4,
 "nbformat_minor": 2
}
