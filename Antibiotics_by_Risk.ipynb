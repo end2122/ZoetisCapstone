{
 "cells": [
  {
   "cell_type": "code",
   "execution_count": null,
   "metadata": {},
   "outputs": [],
   "source": [
    "path_master = r'C:/Users/endwy/Documents/Columbia MSBA/Spring 2019/E4524 - Analytics in Practice/Data/Csv/'"
   ]
  },
  {
   "cell_type": "code",
   "execution_count": null,
   "metadata": {},
   "outputs": [],
   "source": [
    "import pandas as pd\n",
    "with open(path_master+'April 2017 - Antibiotic by Risk1.csv') as fp:\n",
    "    df_ABR1 = pd.read_csv(fp,\n",
    "                          skiprows=[0], \n",
    "                          usecols=['Unnamed: 1', 'Treated', 'Repulls', 'Mortalities', 'Treatment Success',\n",
    "                                   'Case Fatality Rate','$/Hd/Rx', 'Treatment $'])\n",
    "df_ABR1.rename(columns={'Unnamed: 1': 'Drug'}, inplace=True)\n",
    "df_ABR1.head()"
   ]
  },
  {
   "cell_type": "code",
   "execution_count": null,
   "metadata": {},
   "outputs": [],
   "source": [
    "# Remove dashes from columns\n",
    "for i in range(len(df_ABR1)):\n",
    "    for j in ['Treated','Repulls','Mortalities']:\n",
    "        if df_ABR1.iloc[i].loc[j] == '-':\n",
    "            df_ABR1.iloc[i].loc[j] = 0\n",
    "        else:\n",
    "            m = df_ABR1.iloc[i].loc[j]\n",
    "            m = m.replace(' ','')\n",
    "            df_ABR1.iloc[i].loc[j] = m.replace(',','')\n",
    "            #print(m,type(m))"
   ]
  },
  {
   "cell_type": "code",
   "execution_count": null,
   "metadata": {},
   "outputs": [],
   "source": [
    "# Change str -> int for numerical columns\n",
    "df_ABR1['Treated'] = df_ABR1['Treated'].apply(lambda x: int(x))\n",
    "df_ABR1['Repulls'] = df_ABR1['Repulls'].apply(lambda x: int(x))\n",
    "df_ABR1['Mortalities'] = df_ABR1['Mortalities'].apply(lambda x: int(x))"
   ]
  },
  {
   "cell_type": "code",
   "execution_count": null,
   "metadata": {},
   "outputs": [],
   "source": [
    "df_ABR1.dtypes"
   ]
  },
  {
   "cell_type": "markdown",
   "metadata": {},
   "source": [
    "### Run this below to convert to .py file before pushing to GitHub"
   ]
  },
  {
   "cell_type": "code",
   "execution_count": null,
   "metadata": {},
   "outputs": [],
   "source": [
    "!jupyter nbconvert --to script Antibiotics_by_Risk.ipynb"
   ]
  }
 ],
 "metadata": {
  "kernelspec": {
   "display_name": "Python 3",
   "language": "python",
   "name": "python3"
  },
  "language_info": {
   "codemirror_mode": {
    "name": "ipython",
    "version": 3
   },
   "file_extension": ".py",
   "mimetype": "text/x-python",
   "name": "python",
   "nbconvert_exporter": "python",
   "pygments_lexer": "ipython3",
   "version": "3.7.0"
  }
 },
 "nbformat": 4,
 "nbformat_minor": 2
}
