{
 "cells": [
  {
   "cell_type": "markdown",
   "metadata": {},
   "source": [
    "### Setup"
   ]
  },
  {
   "cell_type": "code",
   "execution_count": 1,
   "metadata": {},
   "outputs": [],
   "source": [
    "import pandas as pd\n",
    "import os\n",
    "import random\n",
    "import numpy as np\n",
    "from sklearn.model_selection import train_test_split\n",
    "import math\n",
    "import matplotlib.pyplot as plt\n",
    "\n",
    "\n",
    "filename = 'C:/Users/endwy/Documents/Columbia MSBA/Spring 2019/E4524 - Analytics in Practice/Data/Csv/a_test.csv'\n",
    "df = pd.read_csv(filename, header=0)\n",
    "df=df.drop(columns=(['Unnamed: 0','Treated']))\n",
    "#df.head(2)"
   ]
  },
  {
   "cell_type": "code",
   "execution_count": 2,
   "metadata": {},
   "outputs": [],
   "source": [
    "df['Treatment $'] = np.log1p(df['Treatment $'])\n",
    "\n",
    "train, test = train_test_split(df, test_size = 0.25,random_state=1)\n",
    "x_train = train.drop(['Treatment $'],axis=1)\n",
    "y_train = train['Treatment $']\n",
    "x_test = test.drop(['Treatment $'],axis=1)\n",
    "y_test = test['Treatment $']\n",
    "\n",
    "#x_test.shape"
   ]
  },
  {
   "cell_type": "code",
   "execution_count": 7,
   "metadata": {},
   "outputs": [
    {
     "data": {
      "image/png": "[encoded data removed]",
      "text/plain": [
       "<Figure size 360x360 with 1 Axes>"
      ]
     },
     "metadata": {
      "needs_background": "light"
     },
     "output_type": "display_data"
    }
   ],
   "source": [
    "import matplotlib.pyplot as plot\n",
    "plot.pcolor(df.corr(),cmap='coolwarm') #https://matplotlib.org/examples/color/colormaps_reference.html\n",
    "plot.show()"
   ]
  },
  {
   "cell_type": "markdown",
   "metadata": {},
   "source": [
    "### XGBoost Models"
   ]
  },
  {
   "cell_type": "markdown",
   "metadata": {},
   "source": [
    "### Response = Treatment$"
   ]
  },
  {
   "cell_type": "code",
   "execution_count": 3,
   "metadata": {},
   "outputs": [],
   "source": [
    "import xgboost as xgb\n",
    "from sklearn.metrics import mean_squared_error\n",
    "from sklearn.model_selection import RandomizedSearchCV"
   ]
  },
  {
   "cell_type": "code",
   "execution_count": 9,
   "metadata": {},
   "outputs": [
    {
     "name": "stdout",
     "output_type": "stream",
     "text": [
      "Randomized search..\n",
      "Fitting 5 folds for each of 20 candidates, totalling 100 fits\n",
      "[CV] n_estimators=10, max_depth=5, learning_rate=0.2, colsample_bytree=0.8, alpha=0.5 \n",
      "[CV]  n_estimators=10, max_depth=5, learning_rate=0.2, colsample_bytree=0.8, alpha=0.5, total=   0.0s\n",
      "[CV] n_estimators=10, max_depth=5, learning_rate=0.2, colsample_bytree=0.8, alpha=0.5 \n",
      "[CV]  n_estimators=10, max_depth=5, learning_rate=0.2, colsample_bytree=0.8, alpha=0.5, total=   0.0s\n",
      "[CV] n_estimators=10, max_depth=5, learning_rate=0.2, colsample_bytree=0.8, alpha=0.5 \n",
      "[CV]  n_estimators=10, max_depth=5, learning_rate=0.2, colsample_bytree=0.8, alpha=0.5, total=   0.0s\n",
      "[CV] n_estimators=10, max_depth=5, learning_rate=0.2, colsample_bytree=0.8, alpha=0.5 \n",
      "[CV]  n_estimators=10, max_depth=5, learning_rate=0.2, colsample_bytree=0.8, alpha=0.5, total=   0.0s\n",
      "[CV] n_estimators=10, max_depth=5, learning_rate=0.2, colsample_bytree=0.8, alpha=0.5 \n",
      "[CV]  n_estimators=10, max_depth=5, learning_rate=0.2, colsample_bytree=0.8, alpha=0.5, total=   0.0s\n",
      "[CV] n_estimators=50, max_depth=10, learning_rate=0.001, colsample_bytree=0.8, alpha=1.0 \n"
     ]
    },
    {
     "name": "stderr",
     "output_type": "stream",
     "text": [
      "C:\\ProgramData\\Anaconda3\\lib\\site-packages\\xgboost\\core.py:587: FutureWarning: Series.base is deprecated and will be removed in a future version\n",
      "  if getattr(data, 'base', None) is not None and \\\n",
      "[Parallel(n_jobs=1)]: Done   1 out of   1 | elapsed:    0.0s remaining:    0.0s\n",
      "C:\\ProgramData\\Anaconda3\\lib\\site-packages\\xgboost\\core.py:587: FutureWarning: Series.base is deprecated and will be removed in a future version\n",
      "  if getattr(data, 'base', None) is not None and \\\n",
      "C:\\ProgramData\\Anaconda3\\lib\\site-packages\\xgboost\\core.py:587: FutureWarning: Series.base is deprecated and will be removed in a future version\n",
      "  if getattr(data, 'base', None) is not None and \\\n",
      "C:\\ProgramData\\Anaconda3\\lib\\site-packages\\xgboost\\core.py:587: FutureWarning: Series.base is deprecated and will be removed in a future version\n",
      "  if getattr(data, 'base', None) is not None and \\\n",
      "C:\\ProgramData\\Anaconda3\\lib\\site-packages\\xgboost\\core.py:587: FutureWarning: Series.base is deprecated and will be removed in a future version\n",
      "  if getattr(data, 'base', None) is not None and \\\n",
      "C:\\ProgramData\\Anaconda3\\lib\\site-packages\\xgboost\\core.py:587: FutureWarning: Series.base is deprecated and will be removed in a future version\n",
      "  if getattr(data, 'base', None) is not None and \\\n"
     ]
    },
    {
     "name": "stdout",
     "output_type": "stream",
     "text": [
      "[CV]  n_estimators=50, max_depth=10, learning_rate=0.001, colsample_bytree=0.8, alpha=1.0, total=   0.1s\n",
      "[CV] n_estimators=50, max_depth=10, learning_rate=0.001, colsample_bytree=0.8, alpha=1.0 \n"
     ]
    },
    {
     "name": "stderr",
     "output_type": "stream",
     "text": [
      "C:\\ProgramData\\Anaconda3\\lib\\site-packages\\xgboost\\core.py:587: FutureWarning: Series.base is deprecated and will be removed in a future version\n",
      "  if getattr(data, 'base', None) is not None and \\\n"
     ]
    },
    {
     "name": "stdout",
     "output_type": "stream",
     "text": [
      "[CV]  n_estimators=50, max_depth=10, learning_rate=0.001, colsample_bytree=0.8, alpha=1.0, total=   0.1s\n",
      "[CV] n_estimators=50, max_depth=10, learning_rate=0.001, colsample_bytree=0.8, alpha=1.0 \n",
      "[CV]  n_estimators=50, max_depth=10, learning_rate=0.001, colsample_bytree=0.8, alpha=1.0, total=   0.1s\n",
      "[CV] n_estimators=50, max_depth=10, learning_rate=0.001, colsample_bytree=0.8, alpha=1.0 \n"
     ]
    },
    {
     "name": "stderr",
     "output_type": "stream",
     "text": [
      "C:\\ProgramData\\Anaconda3\\lib\\site-packages\\xgboost\\core.py:587: FutureWarning: Series.base is deprecated and will be removed in a future version\n",
      "  if getattr(data, 'base', None) is not None and \\\n",
      "C:\\ProgramData\\Anaconda3\\lib\\site-packages\\xgboost\\core.py:587: FutureWarning: Series.base is deprecated and will be removed in a future version\n",
      "  if getattr(data, 'base', None) is not None and \\\n"
     ]
    },
    {
     "name": "stdout",
     "output_type": "stream",
     "text": [
      "[CV]  n_estimators=50, max_depth=10, learning_rate=0.001, colsample_bytree=0.8, alpha=1.0, total=   0.1s\n",
      "[CV] n_estimators=50, max_depth=10, learning_rate=0.001, colsample_bytree=0.8, alpha=1.0 \n"
     ]
    },
    {
     "name": "stderr",
     "output_type": "stream",
     "text": [
      "C:\\ProgramData\\Anaconda3\\lib\\site-packages\\xgboost\\core.py:587: FutureWarning: Series.base is deprecated and will be removed in a future version\n",
      "  if getattr(data, 'base', None) is not None and \\\n"
     ]
    },
    {
     "name": "stdout",
     "output_type": "stream",
     "text": [
      "[CV]  n_estimators=50, max_depth=10, learning_rate=0.001, colsample_bytree=0.8, alpha=1.0, total=   0.1s\n",
      "[CV] n_estimators=10, max_depth=10, learning_rate=0.001, colsample_bytree=0.6, alpha=1.0 \n",
      "[CV]  n_estimators=10, max_depth=10, learning_rate=0.001, colsample_bytree=0.6, alpha=1.0, total=   0.0s\n",
      "[CV] n_estimators=10, max_depth=10, learning_rate=0.001, colsample_bytree=0.6, alpha=1.0 \n",
      "[CV]  n_estimators=10, max_depth=10, learning_rate=0.001, colsample_bytree=0.6, alpha=1.0, total=   0.0s\n",
      "[CV] n_estimators=10, max_depth=10, learning_rate=0.001, colsample_bytree=0.6, alpha=1.0 \n",
      "[CV]  n_estimators=10, max_depth=10, learning_rate=0.001, colsample_bytree=0.6, alpha=1.0, total=   0.0s\n",
      "[CV] n_estimators=10, max_depth=10, learning_rate=0.001, colsample_bytree=0.6, alpha=1.0 \n",
      "[CV]  n_estimators=10, max_depth=10, learning_rate=0.001, colsample_bytree=0.6, alpha=1.0, total=   0.0s\n",
      "[CV] n_estimators=10, max_depth=10, learning_rate=0.001, colsample_bytree=0.6, alpha=1.0 \n"
     ]
    },
    {
     "name": "stderr",
     "output_type": "stream",
     "text": [
      "C:\\ProgramData\\Anaconda3\\lib\\site-packages\\xgboost\\core.py:587: FutureWarning: Series.base is deprecated and will be removed in a future version\n",
      "  if getattr(data, 'base', None) is not None and \\\n",
      "C:\\ProgramData\\Anaconda3\\lib\\site-packages\\xgboost\\core.py:587: FutureWarning: Series.base is deprecated and will be removed in a future version\n",
      "  if getattr(data, 'base', None) is not None and \\\n",
      "C:\\ProgramData\\Anaconda3\\lib\\site-packages\\xgboost\\core.py:587: FutureWarning: Series.base is deprecated and will be removed in a future version\n",
      "  if getattr(data, 'base', None) is not None and \\\n",
      "C:\\ProgramData\\Anaconda3\\lib\\site-packages\\xgboost\\core.py:587: FutureWarning: Series.base is deprecated and will be removed in a future version\n",
      "  if getattr(data, 'base', None) is not None and \\\n",
      "C:\\ProgramData\\Anaconda3\\lib\\site-packages\\xgboost\\core.py:587: FutureWarning: Series.base is deprecated and will be removed in a future version\n",
      "  if getattr(data, 'base', None) is not None and \\\n"
     ]
    },
    {
     "name": "stdout",
     "output_type": "stream",
     "text": [
      "[CV]  n_estimators=10, max_depth=10, learning_rate=0.001, colsample_bytree=0.6, alpha=1.0, total=   0.0s\n",
      "[CV] n_estimators=10, max_depth=15, learning_rate=0.1, colsample_bytree=0.5, alpha=1.0 \n",
      "[CV]  n_estimators=10, max_depth=15, learning_rate=0.1, colsample_bytree=0.5, alpha=1.0, total=   0.0s\n",
      "[CV] n_estimators=10, max_depth=15, learning_rate=0.1, colsample_bytree=0.5, alpha=1.0 \n",
      "[CV]  n_estimators=10, max_depth=15, learning_rate=0.1, colsample_bytree=0.5, alpha=1.0, total=   0.0s\n",
      "[CV] n_estimators=10, max_depth=15, learning_rate=0.1, colsample_bytree=0.5, alpha=1.0 \n",
      "[CV]  n_estimators=10, max_depth=15, learning_rate=0.1, colsample_bytree=0.5, alpha=1.0, total=   0.0s\n",
      "[CV] n_estimators=10, max_depth=15, learning_rate=0.1, colsample_bytree=0.5, alpha=1.0 \n",
      "[CV]  n_estimators=10, max_depth=15, learning_rate=0.1, colsample_bytree=0.5, alpha=1.0, total=   0.0s\n",
      "[CV] n_estimators=10, max_depth=15, learning_rate=0.1, colsample_bytree=0.5, alpha=1.0 \n",
      "[CV]  n_estimators=10, max_depth=15, learning_rate=0.1, colsample_bytree=0.5, alpha=1.0, total=   0.0s\n",
      "[CV] n_estimators=40, max_depth=15, learning_rate=0.01, colsample_bytree=0.6, alpha=5 \n"
     ]
    },
    {
     "name": "stderr",
     "output_type": "stream",
     "text": [
      "C:\\ProgramData\\Anaconda3\\lib\\site-packages\\xgboost\\core.py:587: FutureWarning: Series.base is deprecated and will be removed in a future version\n",
      "  if getattr(data, 'base', None) is not None and \\\n",
      "C:\\ProgramData\\Anaconda3\\lib\\site-packages\\xgboost\\core.py:587: FutureWarning: Series.base is deprecated and will be removed in a future version\n",
      "  if getattr(data, 'base', None) is not None and \\\n",
      "C:\\ProgramData\\Anaconda3\\lib\\site-packages\\xgboost\\core.py:587: FutureWarning: Series.base is deprecated and will be removed in a future version\n",
      "  if getattr(data, 'base', None) is not None and \\\n",
      "C:\\ProgramData\\Anaconda3\\lib\\site-packages\\xgboost\\core.py:587: FutureWarning: Series.base is deprecated and will be removed in a future version\n",
      "  if getattr(data, 'base', None) is not None and \\\n",
      "C:\\ProgramData\\Anaconda3\\lib\\site-packages\\xgboost\\core.py:587: FutureWarning: Series.base is deprecated and will be removed in a future version\n",
      "  if getattr(data, 'base', None) is not None and \\\n",
      "C:\\ProgramData\\Anaconda3\\lib\\site-packages\\xgboost\\core.py:587: FutureWarning: Series.base is deprecated and will be removed in a future version\n",
      "  if getattr(data, 'base', None) is not None and \\\n",
      "C:\\ProgramData\\Anaconda3\\lib\\site-packages\\xgboost\\core.py:587: FutureWarning: Series.base is deprecated and will be removed in a future version\n",
      "  if getattr(data, 'base', None) is not None and \\\n"
     ]
    },
    {
     "name": "stdout",
     "output_type": "stream",
     "text": [
      "[CV]  n_estimators=40, max_depth=15, learning_rate=0.01, colsample_bytree=0.6, alpha=5, total=   0.0s\n",
      "[CV] n_estimators=40, max_depth=15, learning_rate=0.01, colsample_bytree=0.6, alpha=5 \n",
      "[CV]  n_estimators=40, max_depth=15, learning_rate=0.01, colsample_bytree=0.6, alpha=5, total=   0.0s\n",
      "[CV] n_estimators=40, max_depth=15, learning_rate=0.01, colsample_bytree=0.6, alpha=5 \n"
     ]
    },
    {
     "name": "stderr",
     "output_type": "stream",
     "text": [
      "C:\\ProgramData\\Anaconda3\\lib\\site-packages\\xgboost\\core.py:587: FutureWarning: Series.base is deprecated and will be removed in a future version\n",
      "  if getattr(data, 'base', None) is not None and \\\n",
      "C:\\ProgramData\\Anaconda3\\lib\\site-packages\\xgboost\\core.py:587: FutureWarning: Series.base is deprecated and will be removed in a future version\n",
      "  if getattr(data, 'base', None) is not None and \\\n"
     ]
    },
    {
     "name": "stdout",
     "output_type": "stream",
     "text": [
      "[CV]  n_estimators=40, max_depth=15, learning_rate=0.01, colsample_bytree=0.6, alpha=5, total=   0.1s\n",
      "[CV] n_estimators=40, max_depth=15, learning_rate=0.01, colsample_bytree=0.6, alpha=5 \n",
      "[CV]  n_estimators=40, max_depth=15, learning_rate=0.01, colsample_bytree=0.6, alpha=5, total=   0.1s\n"
     ]
    },
    {
     "name": "stderr",
     "output_type": "stream",
     "text": [
      "C:\\ProgramData\\Anaconda3\\lib\\site-packages\\xgboost\\core.py:587: FutureWarning: Series.base is deprecated and will be removed in a future version\n",
      "  if getattr(data, 'base', None) is not None and \\\n",
      "C:\\ProgramData\\Anaconda3\\lib\\site-packages\\xgboost\\core.py:587: FutureWarning: Series.base is deprecated and will be removed in a future version\n",
      "  if getattr(data, 'base', None) is not None and \\\n"
     ]
    },
    {
     "name": "stdout",
     "output_type": "stream",
     "text": [
      "[CV] n_estimators=40, max_depth=15, learning_rate=0.01, colsample_bytree=0.6, alpha=5 \n",
      "[CV]  n_estimators=40, max_depth=15, learning_rate=0.01, colsample_bytree=0.6, alpha=5, total=   0.0s\n",
      "[CV] n_estimators=50, max_depth=8, learning_rate=0.001, colsample_bytree=0.7, alpha=10 \n",
      "[CV]  n_estimators=50, max_depth=8, learning_rate=0.001, colsample_bytree=0.7, alpha=10, total=   0.0s\n",
      "[CV] n_estimators=50, max_depth=8, learning_rate=0.001, colsample_bytree=0.7, alpha=10 \n"
     ]
    },
    {
     "name": "stderr",
     "output_type": "stream",
     "text": [
      "C:\\ProgramData\\Anaconda3\\lib\\site-packages\\xgboost\\core.py:587: FutureWarning: Series.base is deprecated and will be removed in a future version\n",
      "  if getattr(data, 'base', None) is not None and \\\n",
      "C:\\ProgramData\\Anaconda3\\lib\\site-packages\\xgboost\\core.py:587: FutureWarning: Series.base is deprecated and will be removed in a future version\n",
      "  if getattr(data, 'base', None) is not None and \\\n"
     ]
    },
    {
     "name": "stdout",
     "output_type": "stream",
     "text": [
      "[CV]  n_estimators=50, max_depth=8, learning_rate=0.001, colsample_bytree=0.7, alpha=10, total=   0.0s\n",
      "[CV] n_estimators=50, max_depth=8, learning_rate=0.001, colsample_bytree=0.7, alpha=10 \n",
      "[CV]  n_estimators=50, max_depth=8, learning_rate=0.001, colsample_bytree=0.7, alpha=10, total=   0.0s\n",
      "[CV] n_estimators=50, max_depth=8, learning_rate=0.001, colsample_bytree=0.7, alpha=10 \n"
     ]
    },
    {
     "name": "stderr",
     "output_type": "stream",
     "text": [
      "C:\\ProgramData\\Anaconda3\\lib\\site-packages\\xgboost\\core.py:587: FutureWarning: Series.base is deprecated and will be removed in a future version\n",
      "  if getattr(data, 'base', None) is not None and \\\n",
      "C:\\ProgramData\\Anaconda3\\lib\\site-packages\\xgboost\\core.py:587: FutureWarning: Series.base is deprecated and will be removed in a future version\n",
      "  if getattr(data, 'base', None) is not None and \\\n"
     ]
    },
    {
     "name": "stdout",
     "output_type": "stream",
     "text": [
      "[CV]  n_estimators=50, max_depth=8, learning_rate=0.001, colsample_bytree=0.7, alpha=10, total=   0.0s\n",
      "[CV] n_estimators=50, max_depth=8, learning_rate=0.001, colsample_bytree=0.7, alpha=10 \n",
      "[CV]  n_estimators=50, max_depth=8, learning_rate=0.001, colsample_bytree=0.7, alpha=10, total=   0.0s\n",
      "[CV] n_estimators=20, max_depth=8, learning_rate=0.2, colsample_bytree=0.9, alpha=0 \n"
     ]
    },
    {
     "name": "stderr",
     "output_type": "stream",
     "text": [
      "C:\\ProgramData\\Anaconda3\\lib\\site-packages\\xgboost\\core.py:587: FutureWarning: Series.base is deprecated and will be removed in a future version\n",
      "  if getattr(data, 'base', None) is not None and \\\n",
      "C:\\ProgramData\\Anaconda3\\lib\\site-packages\\xgboost\\core.py:587: FutureWarning: Series.base is deprecated and will be removed in a future version\n",
      "  if getattr(data, 'base', None) is not None and \\\n",
      "C:\\ProgramData\\Anaconda3\\lib\\site-packages\\xgboost\\core.py:587: FutureWarning: Series.base is deprecated and will be removed in a future version\n",
      "  if getattr(data, 'base', None) is not None and \\\n"
     ]
    },
    {
     "name": "stdout",
     "output_type": "stream",
     "text": [
      "[CV]  n_estimators=20, max_depth=8, learning_rate=0.2, colsample_bytree=0.9, alpha=0, total=   0.0s\n",
      "[CV] n_estimators=20, max_depth=8, learning_rate=0.2, colsample_bytree=0.9, alpha=0 \n",
      "[CV]  n_estimators=20, max_depth=8, learning_rate=0.2, colsample_bytree=0.9, alpha=0, total=   0.0s\n",
      "[CV] n_estimators=20, max_depth=8, learning_rate=0.2, colsample_bytree=0.9, alpha=0 \n",
      "[CV]  n_estimators=20, max_depth=8, learning_rate=0.2, colsample_bytree=0.9, alpha=0, total=   0.0s\n",
      "[CV] n_estimators=20, max_depth=8, learning_rate=0.2, colsample_bytree=0.9, alpha=0 \n"
     ]
    },
    {
     "name": "stderr",
     "output_type": "stream",
     "text": [
      "C:\\ProgramData\\Anaconda3\\lib\\site-packages\\xgboost\\core.py:587: FutureWarning: Series.base is deprecated and will be removed in a future version\n",
      "  if getattr(data, 'base', None) is not None and \\\n",
      "C:\\ProgramData\\Anaconda3\\lib\\site-packages\\xgboost\\core.py:587: FutureWarning: Series.base is deprecated and will be removed in a future version\n",
      "  if getattr(data, 'base', None) is not None and \\\n",
      "C:\\ProgramData\\Anaconda3\\lib\\site-packages\\xgboost\\core.py:587: FutureWarning: Series.base is deprecated and will be removed in a future version\n",
      "  if getattr(data, 'base', None) is not None and \\\n"
     ]
    },
    {
     "name": "stdout",
     "output_type": "stream",
     "text": [
      "[CV]  n_estimators=20, max_depth=8, learning_rate=0.2, colsample_bytree=0.9, alpha=0, total=   0.0s\n",
      "[CV] n_estimators=20, max_depth=8, learning_rate=0.2, colsample_bytree=0.9, alpha=0 \n",
      "[CV]  n_estimators=20, max_depth=8, learning_rate=0.2, colsample_bytree=0.9, alpha=0, total=   0.0s\n",
      "[CV] n_estimators=40, max_depth=15, learning_rate=0.01, colsample_bytree=0.7, alpha=1.0 \n",
      "[CV]  n_estimators=40, max_depth=15, learning_rate=0.01, colsample_bytree=0.7, alpha=1.0, total=   0.0s\n"
     ]
    },
    {
     "name": "stderr",
     "output_type": "stream",
     "text": [
      "C:\\ProgramData\\Anaconda3\\lib\\site-packages\\xgboost\\core.py:587: FutureWarning: Series.base is deprecated and will be removed in a future version\n",
      "  if getattr(data, 'base', None) is not None and \\\n",
      "C:\\ProgramData\\Anaconda3\\lib\\site-packages\\xgboost\\core.py:587: FutureWarning: Series.base is deprecated and will be removed in a future version\n",
      "  if getattr(data, 'base', None) is not None and \\\n"
     ]
    },
    {
     "name": "stdout",
     "output_type": "stream",
     "text": [
      "[CV] n_estimators=40, max_depth=15, learning_rate=0.01, colsample_bytree=0.7, alpha=1.0 \n",
      "[CV]  n_estimators=40, max_depth=15, learning_rate=0.01, colsample_bytree=0.7, alpha=1.0, total=   0.1s\n",
      "[CV] n_estimators=40, max_depth=15, learning_rate=0.01, colsample_bytree=0.7, alpha=1.0 \n",
      "[CV]  n_estimators=40, max_depth=15, learning_rate=0.01, colsample_bytree=0.7, alpha=1.0, total=   0.1s\n",
      "[CV] n_estimators=40, max_depth=15, learning_rate=0.01, colsample_bytree=0.7, alpha=1.0 \n"
     ]
    },
    {
     "name": "stderr",
     "output_type": "stream",
     "text": [
      "C:\\ProgramData\\Anaconda3\\lib\\site-packages\\xgboost\\core.py:587: FutureWarning: Series.base is deprecated and will be removed in a future version\n",
      "  if getattr(data, 'base', None) is not None and \\\n",
      "C:\\ProgramData\\Anaconda3\\lib\\site-packages\\xgboost\\core.py:587: FutureWarning: Series.base is deprecated and will be removed in a future version\n",
      "  if getattr(data, 'base', None) is not None and \\\n"
     ]
    },
    {
     "name": "stdout",
     "output_type": "stream",
     "text": [
      "[CV]  n_estimators=40, max_depth=15, learning_rate=0.01, colsample_bytree=0.7, alpha=1.0, total=   0.1s\n",
      "[CV] n_estimators=40, max_depth=15, learning_rate=0.01, colsample_bytree=0.7, alpha=1.0 \n",
      "[CV]  n_estimators=40, max_depth=15, learning_rate=0.01, colsample_bytree=0.7, alpha=1.0, total=   0.1s\n",
      "[CV] n_estimators=10, max_depth=10, learning_rate=0.001, colsample_bytree=0.8, alpha=0 \n"
     ]
    },
    {
     "name": "stderr",
     "output_type": "stream",
     "text": [
      "C:\\ProgramData\\Anaconda3\\lib\\site-packages\\xgboost\\core.py:587: FutureWarning: Series.base is deprecated and will be removed in a future version\n",
      "  if getattr(data, 'base', None) is not None and \\\n",
      "C:\\ProgramData\\Anaconda3\\lib\\site-packages\\xgboost\\core.py:587: FutureWarning: Series.base is deprecated and will be removed in a future version\n",
      "  if getattr(data, 'base', None) is not None and \\\n",
      "C:\\ProgramData\\Anaconda3\\lib\\site-packages\\xgboost\\core.py:587: FutureWarning: Series.base is deprecated and will be removed in a future version\n",
      "  if getattr(data, 'base', None) is not None and \\\n",
      "C:\\ProgramData\\Anaconda3\\lib\\site-packages\\xgboost\\core.py:587: FutureWarning: Series.base is deprecated and will be removed in a future version\n",
      "  if getattr(data, 'base', None) is not None and \\\n"
     ]
    },
    {
     "name": "stdout",
     "output_type": "stream",
     "text": [
      "[CV]  n_estimators=10, max_depth=10, learning_rate=0.001, colsample_bytree=0.8, alpha=0, total=   0.0s\n",
      "[CV] n_estimators=10, max_depth=10, learning_rate=0.001, colsample_bytree=0.8, alpha=0 \n",
      "[CV]  n_estimators=10, max_depth=10, learning_rate=0.001, colsample_bytree=0.8, alpha=0, total=   0.0s\n",
      "[CV] n_estimators=10, max_depth=10, learning_rate=0.001, colsample_bytree=0.8, alpha=0 \n",
      "[CV]  n_estimators=10, max_depth=10, learning_rate=0.001, colsample_bytree=0.8, alpha=0, total=   0.0s\n",
      "[CV] n_estimators=10, max_depth=10, learning_rate=0.001, colsample_bytree=0.8, alpha=0 \n",
      "[CV]  n_estimators=10, max_depth=10, learning_rate=0.001, colsample_bytree=0.8, alpha=0, total=   0.0s\n",
      "[CV] n_estimators=10, max_depth=10, learning_rate=0.001, colsample_bytree=0.8, alpha=0 \n"
     ]
    },
    {
     "name": "stderr",
     "output_type": "stream",
     "text": [
      "C:\\ProgramData\\Anaconda3\\lib\\site-packages\\xgboost\\core.py:587: FutureWarning: Series.base is deprecated and will be removed in a future version\n",
      "  if getattr(data, 'base', None) is not None and \\\n",
      "C:\\ProgramData\\Anaconda3\\lib\\site-packages\\xgboost\\core.py:587: FutureWarning: Series.base is deprecated and will be removed in a future version\n",
      "  if getattr(data, 'base', None) is not None and \\\n",
      "C:\\ProgramData\\Anaconda3\\lib\\site-packages\\xgboost\\core.py:587: FutureWarning: Series.base is deprecated and will be removed in a future version\n",
      "  if getattr(data, 'base', None) is not None and \\\n"
     ]
    },
    {
     "name": "stdout",
     "output_type": "stream",
     "text": [
      "[CV]  n_estimators=10, max_depth=10, learning_rate=0.001, colsample_bytree=0.8, alpha=0, total=   0.0s\n",
      "[CV] n_estimators=30, max_depth=5, learning_rate=0.1, colsample_bytree=0.4, alpha=5 \n",
      "[CV]  n_estimators=30, max_depth=5, learning_rate=0.1, colsample_bytree=0.4, alpha=5, total=   0.0s\n",
      "[CV] n_estimators=30, max_depth=5, learning_rate=0.1, colsample_bytree=0.4, alpha=5 \n",
      "[CV]  n_estimators=30, max_depth=5, learning_rate=0.1, colsample_bytree=0.4, alpha=5, total=   0.0s\n",
      "[CV] n_estimators=30, max_depth=5, learning_rate=0.1, colsample_bytree=0.4, alpha=5 \n"
     ]
    },
    {
     "name": "stderr",
     "output_type": "stream",
     "text": [
      "C:\\ProgramData\\Anaconda3\\lib\\site-packages\\xgboost\\core.py:587: FutureWarning: Series.base is deprecated and will be removed in a future version\n",
      "  if getattr(data, 'base', None) is not None and \\\n",
      "C:\\ProgramData\\Anaconda3\\lib\\site-packages\\xgboost\\core.py:587: FutureWarning: Series.base is deprecated and will be removed in a future version\n",
      "  if getattr(data, 'base', None) is not None and \\\n",
      "C:\\ProgramData\\Anaconda3\\lib\\site-packages\\xgboost\\core.py:587: FutureWarning: Series.base is deprecated and will be removed in a future version\n",
      "  if getattr(data, 'base', None) is not None and \\\n"
     ]
    },
    {
     "name": "stdout",
     "output_type": "stream",
     "text": [
      "[CV]  n_estimators=30, max_depth=5, learning_rate=0.1, colsample_bytree=0.4, alpha=5, total=   0.0s\n",
      "[CV] n_estimators=30, max_depth=5, learning_rate=0.1, colsample_bytree=0.4, alpha=5 \n",
      "[CV]  n_estimators=30, max_depth=5, learning_rate=0.1, colsample_bytree=0.4, alpha=5, total=   0.0s\n",
      "[CV] n_estimators=30, max_depth=5, learning_rate=0.1, colsample_bytree=0.4, alpha=5 \n",
      "[CV]  n_estimators=30, max_depth=5, learning_rate=0.1, colsample_bytree=0.4, alpha=5, total=   0.0s\n",
      "[CV] n_estimators=10, max_depth=15, learning_rate=0.1, colsample_bytree=0.6, alpha=10 \n",
      "[CV]  n_estimators=10, max_depth=15, learning_rate=0.1, colsample_bytree=0.6, alpha=10, total=   0.0s\n",
      "[CV] n_estimators=10, max_depth=15, learning_rate=0.1, colsample_bytree=0.6, alpha=10 \n"
     ]
    },
    {
     "name": "stderr",
     "output_type": "stream",
     "text": [
      "C:\\ProgramData\\Anaconda3\\lib\\site-packages\\xgboost\\core.py:587: FutureWarning: Series.base is deprecated and will be removed in a future version\n",
      "  if getattr(data, 'base', None) is not None and \\\n",
      "C:\\ProgramData\\Anaconda3\\lib\\site-packages\\xgboost\\core.py:587: FutureWarning: Series.base is deprecated and will be removed in a future version\n",
      "  if getattr(data, 'base', None) is not None and \\\n",
      "C:\\ProgramData\\Anaconda3\\lib\\site-packages\\xgboost\\core.py:587: FutureWarning: Series.base is deprecated and will be removed in a future version\n",
      "  if getattr(data, 'base', None) is not None and \\\n"
     ]
    },
    {
     "name": "stdout",
     "output_type": "stream",
     "text": [
      "[CV]  n_estimators=10, max_depth=15, learning_rate=0.1, colsample_bytree=0.6, alpha=10, total=   0.0s\n",
      "[CV] n_estimators=10, max_depth=15, learning_rate=0.1, colsample_bytree=0.6, alpha=10 \n",
      "[CV]  n_estimators=10, max_depth=15, learning_rate=0.1, colsample_bytree=0.6, alpha=10, total=   0.0s\n",
      "[CV] n_estimators=10, max_depth=15, learning_rate=0.1, colsample_bytree=0.6, alpha=10 \n",
      "[CV]  n_estimators=10, max_depth=15, learning_rate=0.1, colsample_bytree=0.6, alpha=10, total=   0.0s\n",
      "[CV] n_estimators=10, max_depth=15, learning_rate=0.1, colsample_bytree=0.6, alpha=10 \n",
      "[CV]  n_estimators=10, max_depth=15, learning_rate=0.1, colsample_bytree=0.6, alpha=10, total=   0.0s\n",
      "[CV] n_estimators=10, max_depth=10, learning_rate=0.1, colsample_bytree=0.5, alpha=0 \n"
     ]
    },
    {
     "name": "stderr",
     "output_type": "stream",
     "text": [
      "C:\\ProgramData\\Anaconda3\\lib\\site-packages\\xgboost\\core.py:587: FutureWarning: Series.base is deprecated and will be removed in a future version\n",
      "  if getattr(data, 'base', None) is not None and \\\n",
      "C:\\ProgramData\\Anaconda3\\lib\\site-packages\\xgboost\\core.py:587: FutureWarning: Series.base is deprecated and will be removed in a future version\n",
      "  if getattr(data, 'base', None) is not None and \\\n",
      "C:\\ProgramData\\Anaconda3\\lib\\site-packages\\xgboost\\core.py:587: FutureWarning: Series.base is deprecated and will be removed in a future version\n",
      "  if getattr(data, 'base', None) is not None and \\\n",
      "C:\\ProgramData\\Anaconda3\\lib\\site-packages\\xgboost\\core.py:587: FutureWarning: Series.base is deprecated and will be removed in a future version\n",
      "  if getattr(data, 'base', None) is not None and \\\n"
     ]
    },
    {
     "name": "stdout",
     "output_type": "stream",
     "text": [
      "[CV]  n_estimators=10, max_depth=10, learning_rate=0.1, colsample_bytree=0.5, alpha=0, total=   0.0s\n",
      "[CV] n_estimators=10, max_depth=10, learning_rate=0.1, colsample_bytree=0.5, alpha=0 \n",
      "[CV]  n_estimators=10, max_depth=10, learning_rate=0.1, colsample_bytree=0.5, alpha=0, total=   0.0s\n",
      "[CV] n_estimators=10, max_depth=10, learning_rate=0.1, colsample_bytree=0.5, alpha=0 \n",
      "[CV]  n_estimators=10, max_depth=10, learning_rate=0.1, colsample_bytree=0.5, alpha=0, total=   0.0s\n",
      "[CV] n_estimators=10, max_depth=10, learning_rate=0.1, colsample_bytree=0.5, alpha=0 \n",
      "[CV]  n_estimators=10, max_depth=10, learning_rate=0.1, colsample_bytree=0.5, alpha=0, total=   0.0s\n",
      "[CV] n_estimators=10, max_depth=10, learning_rate=0.1, colsample_bytree=0.5, alpha=0 \n",
      "[CV]  n_estimators=10, max_depth=10, learning_rate=0.1, colsample_bytree=0.5, alpha=0, total=   0.0s\n",
      "[CV] n_estimators=10, max_depth=8, learning_rate=0.001, colsample_bytree=0.7, alpha=5 \n"
     ]
    },
    {
     "name": "stderr",
     "output_type": "stream",
     "text": [
      "C:\\ProgramData\\Anaconda3\\lib\\site-packages\\xgboost\\core.py:587: FutureWarning: Series.base is deprecated and will be removed in a future version\n",
      "  if getattr(data, 'base', None) is not None and \\\n",
      "C:\\ProgramData\\Anaconda3\\lib\\site-packages\\xgboost\\core.py:587: FutureWarning: Series.base is deprecated and will be removed in a future version\n",
      "  if getattr(data, 'base', None) is not None and \\\n",
      "C:\\ProgramData\\Anaconda3\\lib\\site-packages\\xgboost\\core.py:587: FutureWarning: Series.base is deprecated and will be removed in a future version\n",
      "  if getattr(data, 'base', None) is not None and \\\n",
      "C:\\ProgramData\\Anaconda3\\lib\\site-packages\\xgboost\\core.py:587: FutureWarning: Series.base is deprecated and will be removed in a future version\n",
      "  if getattr(data, 'base', None) is not None and \\\n"
     ]
    },
    {
     "name": "stdout",
     "output_type": "stream",
     "text": [
      "[CV]  n_estimators=10, max_depth=8, learning_rate=0.001, colsample_bytree=0.7, alpha=5, total=   0.0s\n",
      "[CV] n_estimators=10, max_depth=8, learning_rate=0.001, colsample_bytree=0.7, alpha=5 \n",
      "[CV]  n_estimators=10, max_depth=8, learning_rate=0.001, colsample_bytree=0.7, alpha=5, total=   0.0s\n",
      "[CV] n_estimators=10, max_depth=8, learning_rate=0.001, colsample_bytree=0.7, alpha=5 \n",
      "[CV]  n_estimators=10, max_depth=8, learning_rate=0.001, colsample_bytree=0.7, alpha=5, total=   0.0s\n",
      "[CV] n_estimators=10, max_depth=8, learning_rate=0.001, colsample_bytree=0.7, alpha=5 \n",
      "[CV]  n_estimators=10, max_depth=8, learning_rate=0.001, colsample_bytree=0.7, alpha=5, total=   0.0s\n",
      "[CV] n_estimators=10, max_depth=8, learning_rate=0.001, colsample_bytree=0.7, alpha=5 \n",
      "[CV]  n_estimators=10, max_depth=8, learning_rate=0.001, colsample_bytree=0.7, alpha=5, total=   0.0s\n",
      "[CV] n_estimators=50, max_depth=8, learning_rate=0.1, colsample_bytree=0.7, alpha=0.5 \n"
     ]
    },
    {
     "name": "stderr",
     "output_type": "stream",
     "text": [
      "C:\\ProgramData\\Anaconda3\\lib\\site-packages\\xgboost\\core.py:587: FutureWarning: Series.base is deprecated and will be removed in a future version\n",
      "  if getattr(data, 'base', None) is not None and \\\n",
      "C:\\ProgramData\\Anaconda3\\lib\\site-packages\\xgboost\\core.py:587: FutureWarning: Series.base is deprecated and will be removed in a future version\n",
      "  if getattr(data, 'base', None) is not None and \\\n",
      "C:\\ProgramData\\Anaconda3\\lib\\site-packages\\xgboost\\core.py:587: FutureWarning: Series.base is deprecated and will be removed in a future version\n",
      "  if getattr(data, 'base', None) is not None and \\\n",
      "C:\\ProgramData\\Anaconda3\\lib\\site-packages\\xgboost\\core.py:587: FutureWarning: Series.base is deprecated and will be removed in a future version\n",
      "  if getattr(data, 'base', None) is not None and \\\n",
      "C:\\ProgramData\\Anaconda3\\lib\\site-packages\\xgboost\\core.py:587: FutureWarning: Series.base is deprecated and will be removed in a future version\n",
      "  if getattr(data, 'base', None) is not None and \\\n"
     ]
    },
    {
     "name": "stdout",
     "output_type": "stream",
     "text": [
      "[CV]  n_estimators=50, max_depth=8, learning_rate=0.1, colsample_bytree=0.7, alpha=0.5, total=   0.1s\n",
      "[CV] n_estimators=50, max_depth=8, learning_rate=0.1, colsample_bytree=0.7, alpha=0.5 \n",
      "[CV]  n_estimators=50, max_depth=8, learning_rate=0.1, colsample_bytree=0.7, alpha=0.5, total=   0.1s\n"
     ]
    },
    {
     "name": "stderr",
     "output_type": "stream",
     "text": [
      "C:\\ProgramData\\Anaconda3\\lib\\site-packages\\xgboost\\core.py:587: FutureWarning: Series.base is deprecated and will be removed in a future version\n",
      "  if getattr(data, 'base', None) is not None and \\\n",
      "C:\\ProgramData\\Anaconda3\\lib\\site-packages\\xgboost\\core.py:587: FutureWarning: Series.base is deprecated and will be removed in a future version\n",
      "  if getattr(data, 'base', None) is not None and \\\n"
     ]
    },
    {
     "name": "stdout",
     "output_type": "stream",
     "text": [
      "[CV] n_estimators=50, max_depth=8, learning_rate=0.1, colsample_bytree=0.7, alpha=0.5 \n",
      "[CV]  n_estimators=50, max_depth=8, learning_rate=0.1, colsample_bytree=0.7, alpha=0.5, total=   0.1s\n",
      "[CV] n_estimators=50, max_depth=8, learning_rate=0.1, colsample_bytree=0.7, alpha=0.5 \n",
      "[CV]  n_estimators=50, max_depth=8, learning_rate=0.1, colsample_bytree=0.7, alpha=0.5, total=   0.1s\n"
     ]
    },
    {
     "name": "stderr",
     "output_type": "stream",
     "text": [
      "C:\\ProgramData\\Anaconda3\\lib\\site-packages\\xgboost\\core.py:587: FutureWarning: Series.base is deprecated and will be removed in a future version\n",
      "  if getattr(data, 'base', None) is not None and \\\n",
      "C:\\ProgramData\\Anaconda3\\lib\\site-packages\\xgboost\\core.py:587: FutureWarning: Series.base is deprecated and will be removed in a future version\n",
      "  if getattr(data, 'base', None) is not None and \\\n"
     ]
    },
    {
     "name": "stdout",
     "output_type": "stream",
     "text": [
      "[CV] n_estimators=50, max_depth=8, learning_rate=0.1, colsample_bytree=0.7, alpha=0.5 \n",
      "[CV]  n_estimators=50, max_depth=8, learning_rate=0.1, colsample_bytree=0.7, alpha=0.5, total=   0.1s\n",
      "[CV] n_estimators=20, max_depth=10, learning_rate=0.2, colsample_bytree=0.9, alpha=10 \n",
      "[CV]  n_estimators=20, max_depth=10, learning_rate=0.2, colsample_bytree=0.9, alpha=10, total=   0.0s\n",
      "[CV] n_estimators=20, max_depth=10, learning_rate=0.2, colsample_bytree=0.9, alpha=10 \n"
     ]
    },
    {
     "name": "stderr",
     "output_type": "stream",
     "text": [
      "C:\\ProgramData\\Anaconda3\\lib\\site-packages\\xgboost\\core.py:587: FutureWarning: Series.base is deprecated and will be removed in a future version\n",
      "  if getattr(data, 'base', None) is not None and \\\n",
      "C:\\ProgramData\\Anaconda3\\lib\\site-packages\\xgboost\\core.py:587: FutureWarning: Series.base is deprecated and will be removed in a future version\n",
      "  if getattr(data, 'base', None) is not None and \\\n"
     ]
    },
    {
     "name": "stdout",
     "output_type": "stream",
     "text": [
      "[CV]  n_estimators=20, max_depth=10, learning_rate=0.2, colsample_bytree=0.9, alpha=10, total=   0.0s\n",
      "[CV] n_estimators=20, max_depth=10, learning_rate=0.2, colsample_bytree=0.9, alpha=10 \n",
      "[CV]  n_estimators=20, max_depth=10, learning_rate=0.2, colsample_bytree=0.9, alpha=10, total=   0.0s\n",
      "[CV] n_estimators=20, max_depth=10, learning_rate=0.2, colsample_bytree=0.9, alpha=10 \n"
     ]
    },
    {
     "name": "stderr",
     "output_type": "stream",
     "text": [
      "C:\\ProgramData\\Anaconda3\\lib\\site-packages\\xgboost\\core.py:587: FutureWarning: Series.base is deprecated and will be removed in a future version\n",
      "  if getattr(data, 'base', None) is not None and \\\n",
      "C:\\ProgramData\\Anaconda3\\lib\\site-packages\\xgboost\\core.py:587: FutureWarning: Series.base is deprecated and will be removed in a future version\n",
      "  if getattr(data, 'base', None) is not None and \\\n"
     ]
    },
    {
     "name": "stdout",
     "output_type": "stream",
     "text": [
      "[CV]  n_estimators=20, max_depth=10, learning_rate=0.2, colsample_bytree=0.9, alpha=10, total=   0.0s\n",
      "[CV] n_estimators=20, max_depth=10, learning_rate=0.2, colsample_bytree=0.9, alpha=10 \n",
      "[CV]  n_estimators=20, max_depth=10, learning_rate=0.2, colsample_bytree=0.9, alpha=10, total=   0.0s\n",
      "[CV] n_estimators=10, max_depth=15, learning_rate=0.2, colsample_bytree=0.4, alpha=5 \n",
      "[CV]  n_estimators=10, max_depth=15, learning_rate=0.2, colsample_bytree=0.4, alpha=5, total=   0.0s\n",
      "[CV] n_estimators=10, max_depth=15, learning_rate=0.2, colsample_bytree=0.4, alpha=5 \n",
      "[CV]  n_estimators=10, max_depth=15, learning_rate=0.2, colsample_bytree=0.4, alpha=5, total=   0.0s\n",
      "[CV] n_estimators=10, max_depth=15, learning_rate=0.2, colsample_bytree=0.4, alpha=5 \n"
     ]
    },
    {
     "name": "stderr",
     "output_type": "stream",
     "text": [
      "C:\\ProgramData\\Anaconda3\\lib\\site-packages\\xgboost\\core.py:587: FutureWarning: Series.base is deprecated and will be removed in a future version\n",
      "  if getattr(data, 'base', None) is not None and \\\n",
      "C:\\ProgramData\\Anaconda3\\lib\\site-packages\\xgboost\\core.py:587: FutureWarning: Series.base is deprecated and will be removed in a future version\n",
      "  if getattr(data, 'base', None) is not None and \\\n",
      "C:\\ProgramData\\Anaconda3\\lib\\site-packages\\xgboost\\core.py:587: FutureWarning: Series.base is deprecated and will be removed in a future version\n",
      "  if getattr(data, 'base', None) is not None and \\\n",
      "C:\\ProgramData\\Anaconda3\\lib\\site-packages\\xgboost\\core.py:587: FutureWarning: Series.base is deprecated and will be removed in a future version\n",
      "  if getattr(data, 'base', None) is not None and \\\n",
      "C:\\ProgramData\\Anaconda3\\lib\\site-packages\\xgboost\\core.py:587: FutureWarning: Series.base is deprecated and will be removed in a future version\n",
      "  if getattr(data, 'base', None) is not None and \\\n",
      "C:\\ProgramData\\Anaconda3\\lib\\site-packages\\xgboost\\core.py:587: FutureWarning: Series.base is deprecated and will be removed in a future version\n",
      "  if getattr(data, 'base', None) is not None and \\\n",
      "C:\\ProgramData\\Anaconda3\\lib\\site-packages\\xgboost\\core.py:587: FutureWarning: Series.base is deprecated and will be removed in a future version\n",
      "  if getattr(data, 'base', None) is not None and \\\n"
     ]
    },
    {
     "name": "stdout",
     "output_type": "stream",
     "text": [
      "[CV]  n_estimators=10, max_depth=15, learning_rate=0.2, colsample_bytree=0.4, alpha=5, total=   0.0s\n",
      "[CV] n_estimators=10, max_depth=15, learning_rate=0.2, colsample_bytree=0.4, alpha=5 \n",
      "[CV]  n_estimators=10, max_depth=15, learning_rate=0.2, colsample_bytree=0.4, alpha=5, total=   0.0s\n",
      "[CV] n_estimators=10, max_depth=15, learning_rate=0.2, colsample_bytree=0.4, alpha=5 \n",
      "[CV]  n_estimators=10, max_depth=15, learning_rate=0.2, colsample_bytree=0.4, alpha=5, total=   0.0s\n",
      "[CV] n_estimators=10, max_depth=15, learning_rate=0.001, colsample_bytree=0.7, alpha=1.0 \n",
      "[CV]  n_estimators=10, max_depth=15, learning_rate=0.001, colsample_bytree=0.7, alpha=1.0, total=   0.0s\n",
      "[CV] n_estimators=10, max_depth=15, learning_rate=0.001, colsample_bytree=0.7, alpha=1.0 \n",
      "[CV]  n_estimators=10, max_depth=15, learning_rate=0.001, colsample_bytree=0.7, alpha=1.0, total=   0.0s\n"
     ]
    },
    {
     "name": "stderr",
     "output_type": "stream",
     "text": [
      "C:\\ProgramData\\Anaconda3\\lib\\site-packages\\xgboost\\core.py:587: FutureWarning: Series.base is deprecated and will be removed in a future version\n",
      "  if getattr(data, 'base', None) is not None and \\\n",
      "C:\\ProgramData\\Anaconda3\\lib\\site-packages\\xgboost\\core.py:587: FutureWarning: Series.base is deprecated and will be removed in a future version\n",
      "  if getattr(data, 'base', None) is not None and \\\n",
      "C:\\ProgramData\\Anaconda3\\lib\\site-packages\\xgboost\\core.py:587: FutureWarning: Series.base is deprecated and will be removed in a future version\n",
      "  if getattr(data, 'base', None) is not None and \\\n",
      "C:\\ProgramData\\Anaconda3\\lib\\site-packages\\xgboost\\core.py:587: FutureWarning: Series.base is deprecated and will be removed in a future version\n",
      "  if getattr(data, 'base', None) is not None and \\\n"
     ]
    },
    {
     "name": "stdout",
     "output_type": "stream",
     "text": [
      "[CV] n_estimators=10, max_depth=15, learning_rate=0.001, colsample_bytree=0.7, alpha=1.0 \n",
      "[CV]  n_estimators=10, max_depth=15, learning_rate=0.001, colsample_bytree=0.7, alpha=1.0, total=   0.0s\n",
      "[CV] n_estimators=10, max_depth=15, learning_rate=0.001, colsample_bytree=0.7, alpha=1.0 \n",
      "[CV]  n_estimators=10, max_depth=15, learning_rate=0.001, colsample_bytree=0.7, alpha=1.0, total=   0.0s\n",
      "[CV] n_estimators=10, max_depth=15, learning_rate=0.001, colsample_bytree=0.7, alpha=1.0 \n",
      "[CV]  n_estimators=10, max_depth=15, learning_rate=0.001, colsample_bytree=0.7, alpha=1.0, total=   0.0s\n",
      "[CV] n_estimators=10, max_depth=15, learning_rate=0.2, colsample_bytree=0.9, alpha=0.5 \n",
      "[CV]  n_estimators=10, max_depth=15, learning_rate=0.2, colsample_bytree=0.9, alpha=0.5, total=   0.0s\n"
     ]
    },
    {
     "name": "stderr",
     "output_type": "stream",
     "text": [
      "C:\\ProgramData\\Anaconda3\\lib\\site-packages\\xgboost\\core.py:587: FutureWarning: Series.base is deprecated and will be removed in a future version\n",
      "  if getattr(data, 'base', None) is not None and \\\n",
      "C:\\ProgramData\\Anaconda3\\lib\\site-packages\\xgboost\\core.py:587: FutureWarning: Series.base is deprecated and will be removed in a future version\n",
      "  if getattr(data, 'base', None) is not None and \\\n",
      "C:\\ProgramData\\Anaconda3\\lib\\site-packages\\xgboost\\core.py:587: FutureWarning: Series.base is deprecated and will be removed in a future version\n",
      "  if getattr(data, 'base', None) is not None and \\\n"
     ]
    },
    {
     "name": "stdout",
     "output_type": "stream",
     "text": [
      "[CV] n_estimators=10, max_depth=15, learning_rate=0.2, colsample_bytree=0.9, alpha=0.5 \n",
      "[CV]  n_estimators=10, max_depth=15, learning_rate=0.2, colsample_bytree=0.9, alpha=0.5, total=   0.0s\n",
      "[CV] n_estimators=10, max_depth=15, learning_rate=0.2, colsample_bytree=0.9, alpha=0.5 \n",
      "[CV]  n_estimators=10, max_depth=15, learning_rate=0.2, colsample_bytree=0.9, alpha=0.5, total=   0.0s\n",
      "[CV] n_estimators=10, max_depth=15, learning_rate=0.2, colsample_bytree=0.9, alpha=0.5 \n",
      "[CV]  n_estimators=10, max_depth=15, learning_rate=0.2, colsample_bytree=0.9, alpha=0.5, total=   0.0s\n",
      "[CV] n_estimators=10, max_depth=15, learning_rate=0.2, colsample_bytree=0.9, alpha=0.5 \n"
     ]
    },
    {
     "name": "stderr",
     "output_type": "stream",
     "text": [
      "C:\\ProgramData\\Anaconda3\\lib\\site-packages\\xgboost\\core.py:587: FutureWarning: Series.base is deprecated and will be removed in a future version\n",
      "  if getattr(data, 'base', None) is not None and \\\n",
      "C:\\ProgramData\\Anaconda3\\lib\\site-packages\\xgboost\\core.py:587: FutureWarning: Series.base is deprecated and will be removed in a future version\n",
      "  if getattr(data, 'base', None) is not None and \\\n",
      "C:\\ProgramData\\Anaconda3\\lib\\site-packages\\xgboost\\core.py:587: FutureWarning: Series.base is deprecated and will be removed in a future version\n",
      "  if getattr(data, 'base', None) is not None and \\\n"
     ]
    },
    {
     "name": "stdout",
     "output_type": "stream",
     "text": [
      "[CV]  n_estimators=10, max_depth=15, learning_rate=0.2, colsample_bytree=0.9, alpha=0.5, total=   0.0s\n",
      "[CV] n_estimators=50, max_depth=5, learning_rate=0.001, colsample_bytree=0.9, alpha=10 \n",
      "[CV]  n_estimators=50, max_depth=5, learning_rate=0.001, colsample_bytree=0.9, alpha=10, total=   0.1s\n",
      "[CV] n_estimators=50, max_depth=5, learning_rate=0.001, colsample_bytree=0.9, alpha=10 \n"
     ]
    },
    {
     "name": "stderr",
     "output_type": "stream",
     "text": [
      "C:\\ProgramData\\Anaconda3\\lib\\site-packages\\xgboost\\core.py:587: FutureWarning: Series.base is deprecated and will be removed in a future version\n",
      "  if getattr(data, 'base', None) is not None and \\\n",
      "C:\\ProgramData\\Anaconda3\\lib\\site-packages\\xgboost\\core.py:587: FutureWarning: Series.base is deprecated and will be removed in a future version\n",
      "  if getattr(data, 'base', None) is not None and \\\n"
     ]
    },
    {
     "name": "stdout",
     "output_type": "stream",
     "text": [
      "[CV]  n_estimators=50, max_depth=5, learning_rate=0.001, colsample_bytree=0.9, alpha=10, total=   0.0s\n",
      "[CV] n_estimators=50, max_depth=5, learning_rate=0.001, colsample_bytree=0.9, alpha=10 \n",
      "[CV]  n_estimators=50, max_depth=5, learning_rate=0.001, colsample_bytree=0.9, alpha=10, total=   0.0s\n",
      "[CV] n_estimators=50, max_depth=5, learning_rate=0.001, colsample_bytree=0.9, alpha=10 \n"
     ]
    },
    {
     "name": "stderr",
     "output_type": "stream",
     "text": [
      "C:\\ProgramData\\Anaconda3\\lib\\site-packages\\xgboost\\core.py:587: FutureWarning: Series.base is deprecated and will be removed in a future version\n",
      "  if getattr(data, 'base', None) is not None and \\\n",
      "C:\\ProgramData\\Anaconda3\\lib\\site-packages\\xgboost\\core.py:587: FutureWarning: Series.base is deprecated and will be removed in a future version\n",
      "  if getattr(data, 'base', None) is not None and \\\n"
     ]
    },
    {
     "name": "stdout",
     "output_type": "stream",
     "text": [
      "[CV]  n_estimators=50, max_depth=5, learning_rate=0.001, colsample_bytree=0.9, alpha=10, total=   0.0s\n",
      "[CV] n_estimators=50, max_depth=5, learning_rate=0.001, colsample_bytree=0.9, alpha=10 \n",
      "[CV]  n_estimators=50, max_depth=5, learning_rate=0.001, colsample_bytree=0.9, alpha=10, total=   0.0s\n",
      "[CV] n_estimators=50, max_depth=5, learning_rate=0.2, colsample_bytree=0.6, alpha=1.0 \n"
     ]
    },
    {
     "name": "stderr",
     "output_type": "stream",
     "text": [
      "C:\\ProgramData\\Anaconda3\\lib\\site-packages\\xgboost\\core.py:587: FutureWarning: Series.base is deprecated and will be removed in a future version\n",
      "  if getattr(data, 'base', None) is not None and \\\n",
      "C:\\ProgramData\\Anaconda3\\lib\\site-packages\\xgboost\\core.py:587: FutureWarning: Series.base is deprecated and will be removed in a future version\n",
      "  if getattr(data, 'base', None) is not None and \\\n"
     ]
    },
    {
     "name": "stdout",
     "output_type": "stream",
     "text": [
      "[CV]  n_estimators=50, max_depth=5, learning_rate=0.2, colsample_bytree=0.6, alpha=1.0, total=   0.0s\n",
      "[CV] n_estimators=50, max_depth=5, learning_rate=0.2, colsample_bytree=0.6, alpha=1.0 \n",
      "[CV]  n_estimators=50, max_depth=5, learning_rate=0.2, colsample_bytree=0.6, alpha=1.0, total=   0.0s\n",
      "[CV] n_estimators=50, max_depth=5, learning_rate=0.2, colsample_bytree=0.6, alpha=1.0 \n"
     ]
    },
    {
     "name": "stderr",
     "output_type": "stream",
     "text": [
      "C:\\ProgramData\\Anaconda3\\lib\\site-packages\\xgboost\\core.py:587: FutureWarning: Series.base is deprecated and will be removed in a future version\n",
      "  if getattr(data, 'base', None) is not None and \\\n",
      "C:\\ProgramData\\Anaconda3\\lib\\site-packages\\xgboost\\core.py:587: FutureWarning: Series.base is deprecated and will be removed in a future version\n",
      "  if getattr(data, 'base', None) is not None and \\\n"
     ]
    },
    {
     "name": "stdout",
     "output_type": "stream",
     "text": [
      "[CV]  n_estimators=50, max_depth=5, learning_rate=0.2, colsample_bytree=0.6, alpha=1.0, total=   0.0s\n",
      "[CV] n_estimators=50, max_depth=5, learning_rate=0.2, colsample_bytree=0.6, alpha=1.0 \n",
      "[CV]  n_estimators=50, max_depth=5, learning_rate=0.2, colsample_bytree=0.6, alpha=1.0, total=   0.0s\n",
      "[CV] n_estimators=50, max_depth=5, learning_rate=0.2, colsample_bytree=0.6, alpha=1.0 \n",
      "[CV]  n_estimators=50, max_depth=5, learning_rate=0.2, colsample_bytree=0.6, alpha=1.0, total=   0.0s\n"
     ]
    },
    {
     "name": "stderr",
     "output_type": "stream",
     "text": [
      "C:\\ProgramData\\Anaconda3\\lib\\site-packages\\xgboost\\core.py:587: FutureWarning: Series.base is deprecated and will be removed in a future version\n",
      "  if getattr(data, 'base', None) is not None and \\\n",
      "[Parallel(n_jobs=1)]: Done 100 out of 100 | elapsed:    9.5s finished\n"
     ]
    },
    {
     "data": {
      "text/plain": [
       "RandomizedSearchCV(cv=5, error_score='raise',\n",
       "          estimator=XGBRegressor(base_score=0.5, booster='gbtree', colsample_bylevel=1,\n",
       "       colsample_bytree=1, gamma=0, importance_type='gain',\n",
       "       learning_rate=0.1, max_delta_step=0, max_depth=3,\n",
       "       min_child_weight=1, missing=None, n_estimators=100, n_jobs=1,\n",
       "       nthread=None, objective='reg:linear', random_state=0, reg_alpha=0,\n",
       "       reg_lambda=1, scale_pos_weight=1, seed=None, silent=True,\n",
       "       subsample=1),\n",
       "          fit_params=None, iid=True, n_iter=20, n_jobs=1,\n",
       "          param_distributions={'max_depth': [5, 8, 10, 15], 'learning_rate': [0.001, 0.01, 0.1, 0.2], 'colsample_bytree': [0.4, 0.5, 0.6, 0.7, 0.8, 0.9], 'alpha': [0, 0.5, 1.0, 5, 10], 'n_estimators': [10, 20, 30, 40, 50]},\n",
       "          pre_dispatch='2*n_jobs', random_state=42, refit=False,\n",
       "          return_train_score='warn', scoring=None, verbose=2)"
      ]
     },
     "execution_count": 9,
     "metadata": {},
     "output_type": "execute_result"
    }
   ],
   "source": [
    "#RandomizedSearch for best patameters\n",
    "clf = xgb.XGBRegressor(objective ='reg:linear')\n",
    "\n",
    "param_grid = {\n",
    "        'max_depth': [5, 8, 10, 15],\n",
    "        'learning_rate': [0.001, 0.01, 0.1, 0.2],\n",
    "        'colsample_bytree': [0.4, 0.5, 0.6, 0.7, 0.8, 0.9],\n",
    "        'alpha': [0, 0.5, 1.0, 5, 10],\n",
    "        'n_estimators': [10,20,30,40,50]}\n",
    "\n",
    "\n",
    "rs_clf = RandomizedSearchCV(clf, param_grid, n_iter=20,\n",
    "                            n_jobs=1, verbose=2, cv=5,\n",
    "                            refit=False, random_state=42)\n",
    "print(\"Randomized search..\")\n",
    "rs_clf.fit(x_train, y_train)"
   ]
  },
  {
   "cell_type": "code",
   "execution_count": 10,
   "metadata": {},
   "outputs": [
    {
     "name": "stderr",
     "output_type": "stream",
     "text": [
      "C:\\ProgramData\\Anaconda3\\lib\\site-packages\\xgboost\\core.py:587: FutureWarning: Series.base is deprecated and will be removed in a future version\n",
      "  if getattr(data, 'base', None) is not None and \\\n",
      "C:\\ProgramData\\Anaconda3\\lib\\site-packages\\xgboost\\core.py:588: FutureWarning: Series.base is deprecated and will be removed in a future version\n",
      "  data.base is not None and isinstance(data, np.ndarray) \\\n"
     ]
    },
    {
     "name": "stdout",
     "output_type": "stream",
     "text": [
      "RMSE: 1.540676\n"
     ]
    }
   ],
   "source": [
    "xg_reg = xgb.XGBRegressor(objective ='reg:linear', colsample_bytree = 1, learning_rate = 0.1,\n",
    "                max_depth = 3, alpha = 1, n_estimators = 100)\n",
    "\n",
    "xg_reg.fit(x_train,y_train)\n",
    "preds_model = xg_reg.predict(x_test)\n",
    "\n",
    "rmse = math.sqrt(mean_squared_error(y_test, preds_model))\n",
    "print(\"RMSE: %f\" % (rmse))"
   ]
  },
  {
   "cell_type": "code",
   "execution_count": 11,
   "metadata": {},
   "outputs": [
    {
     "data": {
      "image/png": "[encoded data removed]",
      "text/plain": [
       "<Figure size 360x360 with 1 Axes>"
      ]
     },
     "metadata": {
      "needs_background": "light"
     },
     "output_type": "display_data"
    }
   ],
   "source": [
    "xgb.plot_importance(xg_reg)\n",
    "plt.rcParams['figure.figsize'] = [5, 5]\n",
    "plt.show()"
   ]
  },
  {
   "cell_type": "markdown",
   "metadata": {},
   "source": [
    "### Response = Treatment%"
   ]
  },
  {
   "cell_type": "code",
   "execution_count": 13,
   "metadata": {},
   "outputs": [
    {
     "name": "stdout",
     "output_type": "stream",
     "text": [
      "Randomized search..\n",
      "Fitting 5 folds for each of 20 candidates, totalling 100 fits\n",
      "[CV] n_estimators=10, max_depth=5, learning_rate=0.2, colsample_bytree=0.8, alpha=0.5 \n",
      "[CV]  n_estimators=10, max_depth=5, learning_rate=0.2, colsample_bytree=0.8, alpha=0.5, total=   0.0s\n",
      "[CV] n_estimators=10, max_depth=5, learning_rate=0.2, colsample_bytree=0.8, alpha=0.5 \n",
      "[CV]  n_estimators=10, max_depth=5, learning_rate=0.2, colsample_bytree=0.8, alpha=0.5, total=   0.0s\n",
      "[CV] n_estimators=10, max_depth=5, learning_rate=0.2, colsample_bytree=0.8, alpha=0.5 \n",
      "[CV]  n_estimators=10, max_depth=5, learning_rate=0.2, colsample_bytree=0.8, alpha=0.5, total=   0.0s\n",
      "[CV] n_estimators=10, max_depth=5, learning_rate=0.2, colsample_bytree=0.8, alpha=0.5 \n",
      "[CV]  n_estimators=10, max_depth=5, learning_rate=0.2, colsample_bytree=0.8, alpha=0.5, total=   0.0s\n",
      "[CV] n_estimators=10, max_depth=5, learning_rate=0.2, colsample_bytree=0.8, alpha=0.5 \n"
     ]
    },
    {
     "name": "stderr",
     "output_type": "stream",
     "text": [
      "C:\\ProgramData\\Anaconda3\\lib\\site-packages\\xgboost\\core.py:587: FutureWarning: Series.base is deprecated and will be removed in a future version\n",
      "  if getattr(data, 'base', None) is not None and \\\n",
      "[Parallel(n_jobs=1)]: Done   1 out of   1 | elapsed:    0.0s remaining:    0.0s\n",
      "C:\\ProgramData\\Anaconda3\\lib\\site-packages\\xgboost\\core.py:587: FutureWarning: Series.base is deprecated and will be removed in a future version\n",
      "  if getattr(data, 'base', None) is not None and \\\n",
      "C:\\ProgramData\\Anaconda3\\lib\\site-packages\\xgboost\\core.py:587: FutureWarning: Series.base is deprecated and will be removed in a future version\n",
      "  if getattr(data, 'base', None) is not None and \\\n",
      "C:\\ProgramData\\Anaconda3\\lib\\site-packages\\xgboost\\core.py:587: FutureWarning: Series.base is deprecated and will be removed in a future version\n",
      "  if getattr(data, 'base', None) is not None and \\\n",
      "C:\\ProgramData\\Anaconda3\\lib\\site-packages\\xgboost\\core.py:587: FutureWarning: Series.base is deprecated and will be removed in a future version\n",
      "  if getattr(data, 'base', None) is not None and \\\n"
     ]
    },
    {
     "name": "stdout",
     "output_type": "stream",
     "text": [
      "[CV]  n_estimators=10, max_depth=5, learning_rate=0.2, colsample_bytree=0.8, alpha=0.5, total=   0.0s\n",
      "[CV] n_estimators=50, max_depth=10, learning_rate=0.001, colsample_bytree=0.8, alpha=1.0 \n",
      "[CV]  n_estimators=50, max_depth=10, learning_rate=0.001, colsample_bytree=0.8, alpha=1.0, total=   0.1s\n",
      "[CV] n_estimators=50, max_depth=10, learning_rate=0.001, colsample_bytree=0.8, alpha=1.0 \n"
     ]
    },
    {
     "name": "stderr",
     "output_type": "stream",
     "text": [
      "C:\\ProgramData\\Anaconda3\\lib\\site-packages\\xgboost\\core.py:587: FutureWarning: Series.base is deprecated and will be removed in a future version\n",
      "  if getattr(data, 'base', None) is not None and \\\n",
      "C:\\ProgramData\\Anaconda3\\lib\\site-packages\\xgboost\\core.py:587: FutureWarning: Series.base is deprecated and will be removed in a future version\n",
      "  if getattr(data, 'base', None) is not None and \\\n"
     ]
    },
    {
     "name": "stdout",
     "output_type": "stream",
     "text": [
      "[CV]  n_estimators=50, max_depth=10, learning_rate=0.001, colsample_bytree=0.8, alpha=1.0, total=   0.1s\n",
      "[CV] n_estimators=50, max_depth=10, learning_rate=0.001, colsample_bytree=0.8, alpha=1.0 \n",
      "[CV]  n_estimators=50, max_depth=10, learning_rate=0.001, colsample_bytree=0.8, alpha=1.0, total=   0.1s\n",
      "[CV] n_estimators=50, max_depth=10, learning_rate=0.001, colsample_bytree=0.8, alpha=1.0 \n"
     ]
    },
    {
     "name": "stderr",
     "output_type": "stream",
     "text": [
      "C:\\ProgramData\\Anaconda3\\lib\\site-packages\\xgboost\\core.py:587: FutureWarning: Series.base is deprecated and will be removed in a future version\n",
      "  if getattr(data, 'base', None) is not None and \\\n",
      "C:\\ProgramData\\Anaconda3\\lib\\site-packages\\xgboost\\core.py:587: FutureWarning: Series.base is deprecated and will be removed in a future version\n",
      "  if getattr(data, 'base', None) is not None and \\\n"
     ]
    },
    {
     "name": "stdout",
     "output_type": "stream",
     "text": [
      "[CV]  n_estimators=50, max_depth=10, learning_rate=0.001, colsample_bytree=0.8, alpha=1.0, total=   0.1s\n",
      "[CV] n_estimators=50, max_depth=10, learning_rate=0.001, colsample_bytree=0.8, alpha=1.0 \n",
      "[CV]  n_estimators=50, max_depth=10, learning_rate=0.001, colsample_bytree=0.8, alpha=1.0, total=   0.1s\n"
     ]
    },
    {
     "name": "stderr",
     "output_type": "stream",
     "text": [
      "C:\\ProgramData\\Anaconda3\\lib\\site-packages\\xgboost\\core.py:587: FutureWarning: Series.base is deprecated and will be removed in a future version\n",
      "  if getattr(data, 'base', None) is not None and \\\n",
      "C:\\ProgramData\\Anaconda3\\lib\\site-packages\\xgboost\\core.py:587: FutureWarning: Series.base is deprecated and will be removed in a future version\n",
      "  if getattr(data, 'base', None) is not None and \\\n",
      "C:\\ProgramData\\Anaconda3\\lib\\site-packages\\xgboost\\core.py:587: FutureWarning: Series.base is deprecated and will be removed in a future version\n",
      "  if getattr(data, 'base', None) is not None and \\\n",
      "C:\\ProgramData\\Anaconda3\\lib\\site-packages\\xgboost\\core.py:587: FutureWarning: Series.base is deprecated and will be removed in a future version\n",
      "  if getattr(data, 'base', None) is not None and \\\n",
      "C:\\ProgramData\\Anaconda3\\lib\\site-packages\\xgboost\\core.py:587: FutureWarning: Series.base is deprecated and will be removed in a future version\n",
      "  if getattr(data, 'base', None) is not None and \\\n",
      "C:\\ProgramData\\Anaconda3\\lib\\site-packages\\xgboost\\core.py:587: FutureWarning: Series.base is deprecated and will be removed in a future version\n",
      "  if getattr(data, 'base', None) is not None and \\\n"
     ]
    },
    {
     "name": "stdout",
     "output_type": "stream",
     "text": [
      "[CV] n_estimators=10, max_depth=10, learning_rate=0.001, colsample_bytree=0.6, alpha=1.0 \n",
      "[CV]  n_estimators=10, max_depth=10, learning_rate=0.001, colsample_bytree=0.6, alpha=1.0, total=   0.0s\n",
      "[CV] n_estimators=10, max_depth=10, learning_rate=0.001, colsample_bytree=0.6, alpha=1.0 \n",
      "[CV]  n_estimators=10, max_depth=10, learning_rate=0.001, colsample_bytree=0.6, alpha=1.0, total=   0.0s\n",
      "[CV] n_estimators=10, max_depth=10, learning_rate=0.001, colsample_bytree=0.6, alpha=1.0 \n",
      "[CV]  n_estimators=10, max_depth=10, learning_rate=0.001, colsample_bytree=0.6, alpha=1.0, total=   0.0s\n",
      "[CV] n_estimators=10, max_depth=10, learning_rate=0.001, colsample_bytree=0.6, alpha=1.0 \n",
      "[CV]  n_estimators=10, max_depth=10, learning_rate=0.001, colsample_bytree=0.6, alpha=1.0, total=   0.0s\n",
      "[CV] n_estimators=10, max_depth=10, learning_rate=0.001, colsample_bytree=0.6, alpha=1.0 \n",
      "[CV]  n_estimators=10, max_depth=10, learning_rate=0.001, colsample_bytree=0.6, alpha=1.0, total=   0.0s\n",
      "[CV] n_estimators=10, max_depth=15, learning_rate=0.1, colsample_bytree=0.5, alpha=1.0 \n"
     ]
    },
    {
     "name": "stderr",
     "output_type": "stream",
     "text": [
      "C:\\ProgramData\\Anaconda3\\lib\\site-packages\\xgboost\\core.py:587: FutureWarning: Series.base is deprecated and will be removed in a future version\n",
      "  if getattr(data, 'base', None) is not None and \\\n",
      "C:\\ProgramData\\Anaconda3\\lib\\site-packages\\xgboost\\core.py:587: FutureWarning: Series.base is deprecated and will be removed in a future version\n",
      "  if getattr(data, 'base', None) is not None and \\\n",
      "C:\\ProgramData\\Anaconda3\\lib\\site-packages\\xgboost\\core.py:587: FutureWarning: Series.base is deprecated and will be removed in a future version\n",
      "  if getattr(data, 'base', None) is not None and \\\n",
      "C:\\ProgramData\\Anaconda3\\lib\\site-packages\\xgboost\\core.py:587: FutureWarning: Series.base is deprecated and will be removed in a future version\n",
      "  if getattr(data, 'base', None) is not None and \\\n",
      "C:\\ProgramData\\Anaconda3\\lib\\site-packages\\xgboost\\core.py:587: FutureWarning: Series.base is deprecated and will be removed in a future version\n",
      "  if getattr(data, 'base', None) is not None and \\\n"
     ]
    },
    {
     "name": "stdout",
     "output_type": "stream",
     "text": [
      "[CV]  n_estimators=10, max_depth=15, learning_rate=0.1, colsample_bytree=0.5, alpha=1.0, total=   0.0s\n",
      "[CV] n_estimators=10, max_depth=15, learning_rate=0.1, colsample_bytree=0.5, alpha=1.0 \n",
      "[CV]  n_estimators=10, max_depth=15, learning_rate=0.1, colsample_bytree=0.5, alpha=1.0, total=   0.0s\n",
      "[CV] n_estimators=10, max_depth=15, learning_rate=0.1, colsample_bytree=0.5, alpha=1.0 \n",
      "[CV]  n_estimators=10, max_depth=15, learning_rate=0.1, colsample_bytree=0.5, alpha=1.0, total=   0.0s\n",
      "[CV] n_estimators=10, max_depth=15, learning_rate=0.1, colsample_bytree=0.5, alpha=1.0 \n",
      "[CV]  n_estimators=10, max_depth=15, learning_rate=0.1, colsample_bytree=0.5, alpha=1.0, total=   0.0s\n",
      "[CV] n_estimators=10, max_depth=15, learning_rate=0.1, colsample_bytree=0.5, alpha=1.0 \n",
      "[CV]  n_estimators=10, max_depth=15, learning_rate=0.1, colsample_bytree=0.5, alpha=1.0, total=   0.0s\n",
      "[CV] n_estimators=40, max_depth=15, learning_rate=0.01, colsample_bytree=0.6, alpha=5 \n"
     ]
    },
    {
     "name": "stderr",
     "output_type": "stream",
     "text": [
      "C:\\ProgramData\\Anaconda3\\lib\\site-packages\\xgboost\\core.py:587: FutureWarning: Series.base is deprecated and will be removed in a future version\n",
      "  if getattr(data, 'base', None) is not None and \\\n",
      "C:\\ProgramData\\Anaconda3\\lib\\site-packages\\xgboost\\core.py:587: FutureWarning: Series.base is deprecated and will be removed in a future version\n",
      "  if getattr(data, 'base', None) is not None and \\\n"
     ]
    },
    {
     "name": "stdout",
     "output_type": "stream",
     "text": [
      "[CV]  n_estimators=40, max_depth=15, learning_rate=0.01, colsample_bytree=0.6, alpha=5, total=   0.0s\n",
      "[CV] n_estimators=40, max_depth=15, learning_rate=0.01, colsample_bytree=0.6, alpha=5 \n",
      "[CV]  n_estimators=40, max_depth=15, learning_rate=0.01, colsample_bytree=0.6, alpha=5, total=   0.0s\n",
      "[CV] n_estimators=40, max_depth=15, learning_rate=0.01, colsample_bytree=0.6, alpha=5 \n"
     ]
    },
    {
     "name": "stderr",
     "output_type": "stream",
     "text": [
      "C:\\ProgramData\\Anaconda3\\lib\\site-packages\\xgboost\\core.py:587: FutureWarning: Series.base is deprecated and will be removed in a future version\n",
      "  if getattr(data, 'base', None) is not None and \\\n",
      "C:\\ProgramData\\Anaconda3\\lib\\site-packages\\xgboost\\core.py:587: FutureWarning: Series.base is deprecated and will be removed in a future version\n",
      "  if getattr(data, 'base', None) is not None and \\\n"
     ]
    },
    {
     "name": "stdout",
     "output_type": "stream",
     "text": [
      "[CV]  n_estimators=40, max_depth=15, learning_rate=0.01, colsample_bytree=0.6, alpha=5, total=   0.0s\n",
      "[CV] n_estimators=40, max_depth=15, learning_rate=0.01, colsample_bytree=0.6, alpha=5 \n",
      "[CV]  n_estimators=40, max_depth=15, learning_rate=0.01, colsample_bytree=0.6, alpha=5, total=   0.0s\n",
      "[CV] n_estimators=40, max_depth=15, learning_rate=0.01, colsample_bytree=0.6, alpha=5 \n"
     ]
    },
    {
     "name": "stderr",
     "output_type": "stream",
     "text": [
      "C:\\ProgramData\\Anaconda3\\lib\\site-packages\\xgboost\\core.py:587: FutureWarning: Series.base is deprecated and will be removed in a future version\n",
      "  if getattr(data, 'base', None) is not None and \\\n",
      "C:\\ProgramData\\Anaconda3\\lib\\site-packages\\xgboost\\core.py:587: FutureWarning: Series.base is deprecated and will be removed in a future version\n",
      "  if getattr(data, 'base', None) is not None and \\\n"
     ]
    },
    {
     "name": "stdout",
     "output_type": "stream",
     "text": [
      "[CV]  n_estimators=40, max_depth=15, learning_rate=0.01, colsample_bytree=0.6, alpha=5, total=   0.0s\n",
      "[CV] n_estimators=50, max_depth=8, learning_rate=0.001, colsample_bytree=0.7, alpha=10 \n",
      "[CV]  n_estimators=50, max_depth=8, learning_rate=0.001, colsample_bytree=0.7, alpha=10, total=   0.1s\n",
      "[CV] n_estimators=50, max_depth=8, learning_rate=0.001, colsample_bytree=0.7, alpha=10 \n"
     ]
    },
    {
     "name": "stderr",
     "output_type": "stream",
     "text": [
      "C:\\ProgramData\\Anaconda3\\lib\\site-packages\\xgboost\\core.py:587: FutureWarning: Series.base is deprecated and will be removed in a future version\n",
      "  if getattr(data, 'base', None) is not None and \\\n",
      "C:\\ProgramData\\Anaconda3\\lib\\site-packages\\xgboost\\core.py:587: FutureWarning: Series.base is deprecated and will be removed in a future version\n",
      "  if getattr(data, 'base', None) is not None and \\\n"
     ]
    },
    {
     "name": "stdout",
     "output_type": "stream",
     "text": [
      "[CV]  n_estimators=50, max_depth=8, learning_rate=0.001, colsample_bytree=0.7, alpha=10, total=   0.1s\n",
      "[CV] n_estimators=50, max_depth=8, learning_rate=0.001, colsample_bytree=0.7, alpha=10 \n",
      "[CV]  n_estimators=50, max_depth=8, learning_rate=0.001, colsample_bytree=0.7, alpha=10, total=   0.0s\n",
      "[CV] n_estimators=50, max_depth=8, learning_rate=0.001, colsample_bytree=0.7, alpha=10 \n"
     ]
    },
    {
     "name": "stderr",
     "output_type": "stream",
     "text": [
      "C:\\ProgramData\\Anaconda3\\lib\\site-packages\\xgboost\\core.py:587: FutureWarning: Series.base is deprecated and will be removed in a future version\n",
      "  if getattr(data, 'base', None) is not None and \\\n",
      "C:\\ProgramData\\Anaconda3\\lib\\site-packages\\xgboost\\core.py:587: FutureWarning: Series.base is deprecated and will be removed in a future version\n",
      "  if getattr(data, 'base', None) is not None and \\\n"
     ]
    },
    {
     "name": "stdout",
     "output_type": "stream",
     "text": [
      "[CV]  n_estimators=50, max_depth=8, learning_rate=0.001, colsample_bytree=0.7, alpha=10, total=   0.1s\n",
      "[CV] n_estimators=50, max_depth=8, learning_rate=0.001, colsample_bytree=0.7, alpha=10 \n",
      "[CV]  n_estimators=50, max_depth=8, learning_rate=0.001, colsample_bytree=0.7, alpha=10, total=   0.1s\n",
      "[CV] n_estimators=20, max_depth=8, learning_rate=0.2, colsample_bytree=0.9, alpha=0 \n"
     ]
    },
    {
     "name": "stderr",
     "output_type": "stream",
     "text": [
      "C:\\ProgramData\\Anaconda3\\lib\\site-packages\\xgboost\\core.py:587: FutureWarning: Series.base is deprecated and will be removed in a future version\n",
      "  if getattr(data, 'base', None) is not None and \\\n",
      "C:\\ProgramData\\Anaconda3\\lib\\site-packages\\xgboost\\core.py:587: FutureWarning: Series.base is deprecated and will be removed in a future version\n",
      "  if getattr(data, 'base', None) is not None and \\\n",
      "C:\\ProgramData\\Anaconda3\\lib\\site-packages\\xgboost\\core.py:587: FutureWarning: Series.base is deprecated and will be removed in a future version\n",
      "  if getattr(data, 'base', None) is not None and \\\n"
     ]
    },
    {
     "name": "stdout",
     "output_type": "stream",
     "text": [
      "[CV]  n_estimators=20, max_depth=8, learning_rate=0.2, colsample_bytree=0.9, alpha=0, total=   0.0s\n",
      "[CV] n_estimators=20, max_depth=8, learning_rate=0.2, colsample_bytree=0.9, alpha=0 \n",
      "[CV]  n_estimators=20, max_depth=8, learning_rate=0.2, colsample_bytree=0.9, alpha=0, total=   0.0s\n",
      "[CV] n_estimators=20, max_depth=8, learning_rate=0.2, colsample_bytree=0.9, alpha=0 \n",
      "[CV]  n_estimators=20, max_depth=8, learning_rate=0.2, colsample_bytree=0.9, alpha=0, total=   0.0s\n",
      "[CV] n_estimators=20, max_depth=8, learning_rate=0.2, colsample_bytree=0.9, alpha=0 \n"
     ]
    },
    {
     "name": "stderr",
     "output_type": "stream",
     "text": [
      "C:\\ProgramData\\Anaconda3\\lib\\site-packages\\xgboost\\core.py:587: FutureWarning: Series.base is deprecated and will be removed in a future version\n",
      "  if getattr(data, 'base', None) is not None and \\\n",
      "C:\\ProgramData\\Anaconda3\\lib\\site-packages\\xgboost\\core.py:587: FutureWarning: Series.base is deprecated and will be removed in a future version\n",
      "  if getattr(data, 'base', None) is not None and \\\n"
     ]
    },
    {
     "name": "stdout",
     "output_type": "stream",
     "text": [
      "[CV]  n_estimators=20, max_depth=8, learning_rate=0.2, colsample_bytree=0.9, alpha=0, total=   0.0s\n",
      "[CV] n_estimators=20, max_depth=8, learning_rate=0.2, colsample_bytree=0.9, alpha=0 \n",
      "[CV]  n_estimators=20, max_depth=8, learning_rate=0.2, colsample_bytree=0.9, alpha=0, total=   0.0s\n",
      "[CV] n_estimators=40, max_depth=15, learning_rate=0.01, colsample_bytree=0.7, alpha=1.0 \n"
     ]
    },
    {
     "name": "stderr",
     "output_type": "stream",
     "text": [
      "C:\\ProgramData\\Anaconda3\\lib\\site-packages\\xgboost\\core.py:587: FutureWarning: Series.base is deprecated and will be removed in a future version\n",
      "  if getattr(data, 'base', None) is not None and \\\n",
      "C:\\ProgramData\\Anaconda3\\lib\\site-packages\\xgboost\\core.py:587: FutureWarning: Series.base is deprecated and will be removed in a future version\n",
      "  if getattr(data, 'base', None) is not None and \\\n"
     ]
    },
    {
     "name": "stdout",
     "output_type": "stream",
     "text": [
      "[CV]  n_estimators=40, max_depth=15, learning_rate=0.01, colsample_bytree=0.7, alpha=1.0, total=   0.0s\n",
      "[CV] n_estimators=40, max_depth=15, learning_rate=0.01, colsample_bytree=0.7, alpha=1.0 \n",
      "[CV]  n_estimators=40, max_depth=15, learning_rate=0.01, colsample_bytree=0.7, alpha=1.0, total=   0.1s\n",
      "[CV] n_estimators=40, max_depth=15, learning_rate=0.01, colsample_bytree=0.7, alpha=1.0 \n"
     ]
    },
    {
     "name": "stderr",
     "output_type": "stream",
     "text": [
      "C:\\ProgramData\\Anaconda3\\lib\\site-packages\\xgboost\\core.py:587: FutureWarning: Series.base is deprecated and will be removed in a future version\n",
      "  if getattr(data, 'base', None) is not None and \\\n",
      "C:\\ProgramData\\Anaconda3\\lib\\site-packages\\xgboost\\core.py:587: FutureWarning: Series.base is deprecated and will be removed in a future version\n",
      "  if getattr(data, 'base', None) is not None and \\\n"
     ]
    },
    {
     "name": "stdout",
     "output_type": "stream",
     "text": [
      "[CV]  n_estimators=40, max_depth=15, learning_rate=0.01, colsample_bytree=0.7, alpha=1.0, total=   0.0s\n",
      "[CV] n_estimators=40, max_depth=15, learning_rate=0.01, colsample_bytree=0.7, alpha=1.0 \n",
      "[CV]  n_estimators=40, max_depth=15, learning_rate=0.01, colsample_bytree=0.7, alpha=1.0, total=   0.0s\n",
      "[CV] n_estimators=40, max_depth=15, learning_rate=0.01, colsample_bytree=0.7, alpha=1.0 \n"
     ]
    },
    {
     "name": "stderr",
     "output_type": "stream",
     "text": [
      "C:\\ProgramData\\Anaconda3\\lib\\site-packages\\xgboost\\core.py:587: FutureWarning: Series.base is deprecated and will be removed in a future version\n",
      "  if getattr(data, 'base', None) is not None and \\\n",
      "C:\\ProgramData\\Anaconda3\\lib\\site-packages\\xgboost\\core.py:587: FutureWarning: Series.base is deprecated and will be removed in a future version\n",
      "  if getattr(data, 'base', None) is not None and \\\n"
     ]
    },
    {
     "name": "stdout",
     "output_type": "stream",
     "text": [
      "[CV]  n_estimators=40, max_depth=15, learning_rate=0.01, colsample_bytree=0.7, alpha=1.0, total=   0.0s\n",
      "[CV] n_estimators=10, max_depth=10, learning_rate=0.001, colsample_bytree=0.8, alpha=0 \n",
      "[CV]  n_estimators=10, max_depth=10, learning_rate=0.001, colsample_bytree=0.8, alpha=0, total=   0.0s\n",
      "[CV] n_estimators=10, max_depth=10, learning_rate=0.001, colsample_bytree=0.8, alpha=0 \n",
      "[CV]  n_estimators=10, max_depth=10, learning_rate=0.001, colsample_bytree=0.8, alpha=0, total=   0.0s\n",
      "[CV] n_estimators=10, max_depth=10, learning_rate=0.001, colsample_bytree=0.8, alpha=0 \n",
      "[CV]  n_estimators=10, max_depth=10, learning_rate=0.001, colsample_bytree=0.8, alpha=0, total=   0.0s\n",
      "[CV] n_estimators=10, max_depth=10, learning_rate=0.001, colsample_bytree=0.8, alpha=0 \n",
      "[CV]  n_estimators=10, max_depth=10, learning_rate=0.001, colsample_bytree=0.8, alpha=0, total=   0.0s\n",
      "[CV] n_estimators=10, max_depth=10, learning_rate=0.001, colsample_bytree=0.8, alpha=0 \n"
     ]
    },
    {
     "name": "stderr",
     "output_type": "stream",
     "text": [
      "C:\\ProgramData\\Anaconda3\\lib\\site-packages\\xgboost\\core.py:587: FutureWarning: Series.base is deprecated and will be removed in a future version\n",
      "  if getattr(data, 'base', None) is not None and \\\n",
      "C:\\ProgramData\\Anaconda3\\lib\\site-packages\\xgboost\\core.py:587: FutureWarning: Series.base is deprecated and will be removed in a future version\n",
      "  if getattr(data, 'base', None) is not None and \\\n",
      "C:\\ProgramData\\Anaconda3\\lib\\site-packages\\xgboost\\core.py:587: FutureWarning: Series.base is deprecated and will be removed in a future version\n",
      "  if getattr(data, 'base', None) is not None and \\\n",
      "C:\\ProgramData\\Anaconda3\\lib\\site-packages\\xgboost\\core.py:587: FutureWarning: Series.base is deprecated and will be removed in a future version\n",
      "  if getattr(data, 'base', None) is not None and \\\n"
     ]
    },
    {
     "name": "stdout",
     "output_type": "stream",
     "text": [
      "[CV]  n_estimators=10, max_depth=10, learning_rate=0.001, colsample_bytree=0.8, alpha=0, total=   0.0s\n",
      "[CV] n_estimators=30, max_depth=5, learning_rate=0.1, colsample_bytree=0.4, alpha=5 \n",
      "[CV]  n_estimators=30, max_depth=5, learning_rate=0.1, colsample_bytree=0.4, alpha=5, total=   0.0s\n",
      "[CV] n_estimators=30, max_depth=5, learning_rate=0.1, colsample_bytree=0.4, alpha=5 \n",
      "[CV]  n_estimators=30, max_depth=5, learning_rate=0.1, colsample_bytree=0.4, alpha=5, total=   0.0s\n",
      "[CV] n_estimators=30, max_depth=5, learning_rate=0.1, colsample_bytree=0.4, alpha=5 \n"
     ]
    },
    {
     "name": "stderr",
     "output_type": "stream",
     "text": [
      "C:\\ProgramData\\Anaconda3\\lib\\site-packages\\xgboost\\core.py:587: FutureWarning: Series.base is deprecated and will be removed in a future version\n",
      "  if getattr(data, 'base', None) is not None and \\\n",
      "C:\\ProgramData\\Anaconda3\\lib\\site-packages\\xgboost\\core.py:587: FutureWarning: Series.base is deprecated and will be removed in a future version\n",
      "  if getattr(data, 'base', None) is not None and \\\n",
      "C:\\ProgramData\\Anaconda3\\lib\\site-packages\\xgboost\\core.py:587: FutureWarning: Series.base is deprecated and will be removed in a future version\n",
      "  if getattr(data, 'base', None) is not None and \\\n"
     ]
    },
    {
     "name": "stdout",
     "output_type": "stream",
     "text": [
      "[CV]  n_estimators=30, max_depth=5, learning_rate=0.1, colsample_bytree=0.4, alpha=5, total=   0.0s\n",
      "[CV] n_estimators=30, max_depth=5, learning_rate=0.1, colsample_bytree=0.4, alpha=5 \n",
      "[CV]  n_estimators=30, max_depth=5, learning_rate=0.1, colsample_bytree=0.4, alpha=5, total=   0.0s\n",
      "[CV] n_estimators=30, max_depth=5, learning_rate=0.1, colsample_bytree=0.4, alpha=5 \n",
      "[CV]  n_estimators=30, max_depth=5, learning_rate=0.1, colsample_bytree=0.4, alpha=5, total=   0.0s\n",
      "[CV] n_estimators=10, max_depth=15, learning_rate=0.1, colsample_bytree=0.6, alpha=10 \n",
      "[CV]  n_estimators=10, max_depth=15, learning_rate=0.1, colsample_bytree=0.6, alpha=10, total=   0.0s\n",
      "[CV] n_estimators=10, max_depth=15, learning_rate=0.1, colsample_bytree=0.6, alpha=10 \n"
     ]
    },
    {
     "name": "stderr",
     "output_type": "stream",
     "text": [
      "C:\\ProgramData\\Anaconda3\\lib\\site-packages\\xgboost\\core.py:587: FutureWarning: Series.base is deprecated and will be removed in a future version\n",
      "  if getattr(data, 'base', None) is not None and \\\n",
      "C:\\ProgramData\\Anaconda3\\lib\\site-packages\\xgboost\\core.py:587: FutureWarning: Series.base is deprecated and will be removed in a future version\n",
      "  if getattr(data, 'base', None) is not None and \\\n",
      "C:\\ProgramData\\Anaconda3\\lib\\site-packages\\xgboost\\core.py:587: FutureWarning: Series.base is deprecated and will be removed in a future version\n",
      "  if getattr(data, 'base', None) is not None and \\\n"
     ]
    },
    {
     "name": "stdout",
     "output_type": "stream",
     "text": [
      "[CV]  n_estimators=10, max_depth=15, learning_rate=0.1, colsample_bytree=0.6, alpha=10, total=   0.0s\n",
      "[CV] n_estimators=10, max_depth=15, learning_rate=0.1, colsample_bytree=0.6, alpha=10 \n",
      "[CV]  n_estimators=10, max_depth=15, learning_rate=0.1, colsample_bytree=0.6, alpha=10, total=   0.0s\n",
      "[CV] n_estimators=10, max_depth=15, learning_rate=0.1, colsample_bytree=0.6, alpha=10 \n",
      "[CV]  n_estimators=10, max_depth=15, learning_rate=0.1, colsample_bytree=0.6, alpha=10, total=   0.0s\n",
      "[CV] n_estimators=10, max_depth=15, learning_rate=0.1, colsample_bytree=0.6, alpha=10 \n",
      "[CV]  n_estimators=10, max_depth=15, learning_rate=0.1, colsample_bytree=0.6, alpha=10, total=   0.0s\n",
      "[CV] n_estimators=10, max_depth=10, learning_rate=0.1, colsample_bytree=0.5, alpha=0 \n"
     ]
    },
    {
     "name": "stderr",
     "output_type": "stream",
     "text": [
      "C:\\ProgramData\\Anaconda3\\lib\\site-packages\\xgboost\\core.py:587: FutureWarning: Series.base is deprecated and will be removed in a future version\n",
      "  if getattr(data, 'base', None) is not None and \\\n",
      "C:\\ProgramData\\Anaconda3\\lib\\site-packages\\xgboost\\core.py:587: FutureWarning: Series.base is deprecated and will be removed in a future version\n",
      "  if getattr(data, 'base', None) is not None and \\\n",
      "C:\\ProgramData\\Anaconda3\\lib\\site-packages\\xgboost\\core.py:587: FutureWarning: Series.base is deprecated and will be removed in a future version\n",
      "  if getattr(data, 'base', None) is not None and \\\n",
      "C:\\ProgramData\\Anaconda3\\lib\\site-packages\\xgboost\\core.py:587: FutureWarning: Series.base is deprecated and will be removed in a future version\n",
      "  if getattr(data, 'base', None) is not None and \\\n",
      "C:\\ProgramData\\Anaconda3\\lib\\site-packages\\xgboost\\core.py:587: FutureWarning: Series.base is deprecated and will be removed in a future version\n",
      "  if getattr(data, 'base', None) is not None and \\\n",
      "C:\\ProgramData\\Anaconda3\\lib\\site-packages\\xgboost\\core.py:587: FutureWarning: Series.base is deprecated and will be removed in a future version\n",
      "  if getattr(data, 'base', None) is not None and \\\n",
      "C:\\ProgramData\\Anaconda3\\lib\\site-packages\\xgboost\\core.py:587: FutureWarning: Series.base is deprecated and will be removed in a future version\n",
      "  if getattr(data, 'base', None) is not None and \\\n",
      "C:\\ProgramData\\Anaconda3\\lib\\site-packages\\xgboost\\core.py:587: FutureWarning: Series.base is deprecated and will be removed in a future version\n",
      "  if getattr(data, 'base', None) is not None and \\\n",
      "C:\\ProgramData\\Anaconda3\\lib\\site-packages\\xgboost\\core.py:587: FutureWarning: Series.base is deprecated and will be removed in a future version\n",
      "  if getattr(data, 'base', None) is not None and \\\n"
     ]
    },
    {
     "name": "stdout",
     "output_type": "stream",
     "text": [
      "[CV]  n_estimators=10, max_depth=10, learning_rate=0.1, colsample_bytree=0.5, alpha=0, total=   0.0s\n",
      "[CV] n_estimators=10, max_depth=10, learning_rate=0.1, colsample_bytree=0.5, alpha=0 \n",
      "[CV]  n_estimators=10, max_depth=10, learning_rate=0.1, colsample_bytree=0.5, alpha=0, total=   0.0s\n",
      "[CV] n_estimators=10, max_depth=10, learning_rate=0.1, colsample_bytree=0.5, alpha=0 \n",
      "[CV]  n_estimators=10, max_depth=10, learning_rate=0.1, colsample_bytree=0.5, alpha=0, total=   0.0s\n",
      "[CV] n_estimators=10, max_depth=10, learning_rate=0.1, colsample_bytree=0.5, alpha=0 \n",
      "[CV]  n_estimators=10, max_depth=10, learning_rate=0.1, colsample_bytree=0.5, alpha=0, total=   0.0s\n",
      "[CV] n_estimators=10, max_depth=10, learning_rate=0.1, colsample_bytree=0.5, alpha=0 \n",
      "[CV]  n_estimators=10, max_depth=10, learning_rate=0.1, colsample_bytree=0.5, alpha=0, total=   0.0s\n",
      "[CV] n_estimators=10, max_depth=8, learning_rate=0.001, colsample_bytree=0.7, alpha=5 \n"
     ]
    },
    {
     "name": "stderr",
     "output_type": "stream",
     "text": [
      "C:\\ProgramData\\Anaconda3\\lib\\site-packages\\xgboost\\core.py:587: FutureWarning: Series.base is deprecated and will be removed in a future version\n",
      "  if getattr(data, 'base', None) is not None and \\\n",
      "C:\\ProgramData\\Anaconda3\\lib\\site-packages\\xgboost\\core.py:587: FutureWarning: Series.base is deprecated and will be removed in a future version\n",
      "  if getattr(data, 'base', None) is not None and \\\n",
      "C:\\ProgramData\\Anaconda3\\lib\\site-packages\\xgboost\\core.py:587: FutureWarning: Series.base is deprecated and will be removed in a future version\n",
      "  if getattr(data, 'base', None) is not None and \\\n",
      "C:\\ProgramData\\Anaconda3\\lib\\site-packages\\xgboost\\core.py:587: FutureWarning: Series.base is deprecated and will be removed in a future version\n",
      "  if getattr(data, 'base', None) is not None and \\\n",
      "C:\\ProgramData\\Anaconda3\\lib\\site-packages\\xgboost\\core.py:587: FutureWarning: Series.base is deprecated and will be removed in a future version\n",
      "  if getattr(data, 'base', None) is not None and \\\n"
     ]
    },
    {
     "name": "stdout",
     "output_type": "stream",
     "text": [
      "[CV]  n_estimators=10, max_depth=8, learning_rate=0.001, colsample_bytree=0.7, alpha=5, total=   0.0s\n",
      "[CV] n_estimators=10, max_depth=8, learning_rate=0.001, colsample_bytree=0.7, alpha=5 \n",
      "[CV]  n_estimators=10, max_depth=8, learning_rate=0.001, colsample_bytree=0.7, alpha=5, total=   0.0s\n",
      "[CV] n_estimators=10, max_depth=8, learning_rate=0.001, colsample_bytree=0.7, alpha=5 \n",
      "[CV]  n_estimators=10, max_depth=8, learning_rate=0.001, colsample_bytree=0.7, alpha=5, total=   0.0s\n",
      "[CV] n_estimators=10, max_depth=8, learning_rate=0.001, colsample_bytree=0.7, alpha=5 \n",
      "[CV]  n_estimators=10, max_depth=8, learning_rate=0.001, colsample_bytree=0.7, alpha=5, total=   0.0s\n",
      "[CV] n_estimators=10, max_depth=8, learning_rate=0.001, colsample_bytree=0.7, alpha=5 \n",
      "[CV]  n_estimators=10, max_depth=8, learning_rate=0.001, colsample_bytree=0.7, alpha=5, total=   0.0s\n",
      "[CV] n_estimators=50, max_depth=8, learning_rate=0.1, colsample_bytree=0.7, alpha=0.5 \n"
     ]
    },
    {
     "name": "stderr",
     "output_type": "stream",
     "text": [
      "C:\\ProgramData\\Anaconda3\\lib\\site-packages\\xgboost\\core.py:587: FutureWarning: Series.base is deprecated and will be removed in a future version\n",
      "  if getattr(data, 'base', None) is not None and \\\n"
     ]
    },
    {
     "name": "stdout",
     "output_type": "stream",
     "text": [
      "[CV]  n_estimators=50, max_depth=8, learning_rate=0.1, colsample_bytree=0.7, alpha=0.5, total=   0.1s\n",
      "[CV] n_estimators=50, max_depth=8, learning_rate=0.1, colsample_bytree=0.7, alpha=0.5 \n",
      "[CV]  n_estimators=50, max_depth=8, learning_rate=0.1, colsample_bytree=0.7, alpha=0.5, total=   0.1s\n"
     ]
    },
    {
     "name": "stderr",
     "output_type": "stream",
     "text": [
      "C:\\ProgramData\\Anaconda3\\lib\\site-packages\\xgboost\\core.py:587: FutureWarning: Series.base is deprecated and will be removed in a future version\n",
      "  if getattr(data, 'base', None) is not None and \\\n",
      "C:\\ProgramData\\Anaconda3\\lib\\site-packages\\xgboost\\core.py:587: FutureWarning: Series.base is deprecated and will be removed in a future version\n",
      "  if getattr(data, 'base', None) is not None and \\\n"
     ]
    },
    {
     "name": "stdout",
     "output_type": "stream",
     "text": [
      "[CV] n_estimators=50, max_depth=8, learning_rate=0.1, colsample_bytree=0.7, alpha=0.5 \n",
      "[CV]  n_estimators=50, max_depth=8, learning_rate=0.1, colsample_bytree=0.7, alpha=0.5, total=   0.1s\n",
      "[CV] n_estimators=50, max_depth=8, learning_rate=0.1, colsample_bytree=0.7, alpha=0.5 \n",
      "[CV]  n_estimators=50, max_depth=8, learning_rate=0.1, colsample_bytree=0.7, alpha=0.5, total=   0.1s\n"
     ]
    },
    {
     "name": "stderr",
     "output_type": "stream",
     "text": [
      "C:\\ProgramData\\Anaconda3\\lib\\site-packages\\xgboost\\core.py:587: FutureWarning: Series.base is deprecated and will be removed in a future version\n",
      "  if getattr(data, 'base', None) is not None and \\\n",
      "C:\\ProgramData\\Anaconda3\\lib\\site-packages\\xgboost\\core.py:587: FutureWarning: Series.base is deprecated and will be removed in a future version\n",
      "  if getattr(data, 'base', None) is not None and \\\n"
     ]
    },
    {
     "name": "stdout",
     "output_type": "stream",
     "text": [
      "[CV] n_estimators=50, max_depth=8, learning_rate=0.1, colsample_bytree=0.7, alpha=0.5 \n",
      "[CV]  n_estimators=50, max_depth=8, learning_rate=0.1, colsample_bytree=0.7, alpha=0.5, total=   0.1s\n",
      "[CV] n_estimators=20, max_depth=10, learning_rate=0.2, colsample_bytree=0.9, alpha=10 \n",
      "[CV]  n_estimators=20, max_depth=10, learning_rate=0.2, colsample_bytree=0.9, alpha=10, total=   0.0s\n",
      "[CV] n_estimators=20, max_depth=10, learning_rate=0.2, colsample_bytree=0.9, alpha=10 \n"
     ]
    },
    {
     "name": "stderr",
     "output_type": "stream",
     "text": [
      "C:\\ProgramData\\Anaconda3\\lib\\site-packages\\xgboost\\core.py:587: FutureWarning: Series.base is deprecated and will be removed in a future version\n",
      "  if getattr(data, 'base', None) is not None and \\\n",
      "C:\\ProgramData\\Anaconda3\\lib\\site-packages\\xgboost\\core.py:587: FutureWarning: Series.base is deprecated and will be removed in a future version\n",
      "  if getattr(data, 'base', None) is not None and \\\n"
     ]
    },
    {
     "name": "stdout",
     "output_type": "stream",
     "text": [
      "[CV]  n_estimators=20, max_depth=10, learning_rate=0.2, colsample_bytree=0.9, alpha=10, total=   0.0s\n",
      "[CV] n_estimators=20, max_depth=10, learning_rate=0.2, colsample_bytree=0.9, alpha=10 \n",
      "[CV]  n_estimators=20, max_depth=10, learning_rate=0.2, colsample_bytree=0.9, alpha=10, total=   0.0s\n",
      "[CV] n_estimators=20, max_depth=10, learning_rate=0.2, colsample_bytree=0.9, alpha=10 \n"
     ]
    },
    {
     "name": "stderr",
     "output_type": "stream",
     "text": [
      "C:\\ProgramData\\Anaconda3\\lib\\site-packages\\xgboost\\core.py:587: FutureWarning: Series.base is deprecated and will be removed in a future version\n",
      "  if getattr(data, 'base', None) is not None and \\\n",
      "C:\\ProgramData\\Anaconda3\\lib\\site-packages\\xgboost\\core.py:587: FutureWarning: Series.base is deprecated and will be removed in a future version\n",
      "  if getattr(data, 'base', None) is not None and \\\n"
     ]
    },
    {
     "name": "stdout",
     "output_type": "stream",
     "text": [
      "[CV]  n_estimators=20, max_depth=10, learning_rate=0.2, colsample_bytree=0.9, alpha=10, total=   0.0s\n",
      "[CV] n_estimators=20, max_depth=10, learning_rate=0.2, colsample_bytree=0.9, alpha=10 \n",
      "[CV]  n_estimators=20, max_depth=10, learning_rate=0.2, colsample_bytree=0.9, alpha=10, total=   0.0s\n",
      "[CV] n_estimators=10, max_depth=15, learning_rate=0.2, colsample_bytree=0.4, alpha=5 \n",
      "[CV]  n_estimators=10, max_depth=15, learning_rate=0.2, colsample_bytree=0.4, alpha=5, total=   0.0s\n",
      "[CV] n_estimators=10, max_depth=15, learning_rate=0.2, colsample_bytree=0.4, alpha=5 \n"
     ]
    },
    {
     "name": "stderr",
     "output_type": "stream",
     "text": [
      "C:\\ProgramData\\Anaconda3\\lib\\site-packages\\xgboost\\core.py:587: FutureWarning: Series.base is deprecated and will be removed in a future version\n",
      "  if getattr(data, 'base', None) is not None and \\\n",
      "C:\\ProgramData\\Anaconda3\\lib\\site-packages\\xgboost\\core.py:587: FutureWarning: Series.base is deprecated and will be removed in a future version\n",
      "  if getattr(data, 'base', None) is not None and \\\n",
      "C:\\ProgramData\\Anaconda3\\lib\\site-packages\\xgboost\\core.py:587: FutureWarning: Series.base is deprecated and will be removed in a future version\n",
      "  if getattr(data, 'base', None) is not None and \\\n"
     ]
    },
    {
     "name": "stdout",
     "output_type": "stream",
     "text": [
      "[CV]  n_estimators=10, max_depth=15, learning_rate=0.2, colsample_bytree=0.4, alpha=5, total=   0.0s\n",
      "[CV] n_estimators=10, max_depth=15, learning_rate=0.2, colsample_bytree=0.4, alpha=5 \n",
      "[CV]  n_estimators=10, max_depth=15, learning_rate=0.2, colsample_bytree=0.4, alpha=5, total=   0.0s\n",
      "[CV] n_estimators=10, max_depth=15, learning_rate=0.2, colsample_bytree=0.4, alpha=5 \n",
      "[CV]  n_estimators=10, max_depth=15, learning_rate=0.2, colsample_bytree=0.4, alpha=5, total=   0.0s\n",
      "[CV] n_estimators=10, max_depth=15, learning_rate=0.2, colsample_bytree=0.4, alpha=5 \n",
      "[CV]  n_estimators=10, max_depth=15, learning_rate=0.2, colsample_bytree=0.4, alpha=5, total=   0.0s\n",
      "[CV] n_estimators=10, max_depth=15, learning_rate=0.001, colsample_bytree=0.7, alpha=1.0 \n",
      "[CV]  n_estimators=10, max_depth=15, learning_rate=0.001, colsample_bytree=0.7, alpha=1.0, total=   0.0s\n",
      "[CV] n_estimators=10, max_depth=15, learning_rate=0.001, colsample_bytree=0.7, alpha=1.0 \n",
      "[CV]  n_estimators=10, max_depth=15, learning_rate=0.001, colsample_bytree=0.7, alpha=1.0, total=   0.0s\n"
     ]
    },
    {
     "name": "stderr",
     "output_type": "stream",
     "text": [
      "C:\\ProgramData\\Anaconda3\\lib\\site-packages\\xgboost\\core.py:587: FutureWarning: Series.base is deprecated and will be removed in a future version\n",
      "  if getattr(data, 'base', None) is not None and \\\n",
      "C:\\ProgramData\\Anaconda3\\lib\\site-packages\\xgboost\\core.py:587: FutureWarning: Series.base is deprecated and will be removed in a future version\n",
      "  if getattr(data, 'base', None) is not None and \\\n",
      "C:\\ProgramData\\Anaconda3\\lib\\site-packages\\xgboost\\core.py:587: FutureWarning: Series.base is deprecated and will be removed in a future version\n",
      "  if getattr(data, 'base', None) is not None and \\\n",
      "C:\\ProgramData\\Anaconda3\\lib\\site-packages\\xgboost\\core.py:587: FutureWarning: Series.base is deprecated and will be removed in a future version\n",
      "  if getattr(data, 'base', None) is not None and \\\n",
      "C:\\ProgramData\\Anaconda3\\lib\\site-packages\\xgboost\\core.py:587: FutureWarning: Series.base is deprecated and will be removed in a future version\n",
      "  if getattr(data, 'base', None) is not None and \\\n",
      "C:\\ProgramData\\Anaconda3\\lib\\site-packages\\xgboost\\core.py:587: FutureWarning: Series.base is deprecated and will be removed in a future version\n",
      "  if getattr(data, 'base', None) is not None and \\\n",
      "C:\\ProgramData\\Anaconda3\\lib\\site-packages\\xgboost\\core.py:587: FutureWarning: Series.base is deprecated and will be removed in a future version\n",
      "  if getattr(data, 'base', None) is not None and \\\n",
      "C:\\ProgramData\\Anaconda3\\lib\\site-packages\\xgboost\\core.py:587: FutureWarning: Series.base is deprecated and will be removed in a future version\n",
      "  if getattr(data, 'base', None) is not None and \\\n",
      "C:\\ProgramData\\Anaconda3\\lib\\site-packages\\xgboost\\core.py:587: FutureWarning: Series.base is deprecated and will be removed in a future version\n",
      "  if getattr(data, 'base', None) is not None and \\\n"
     ]
    },
    {
     "name": "stdout",
     "output_type": "stream",
     "text": [
      "[CV] n_estimators=10, max_depth=15, learning_rate=0.001, colsample_bytree=0.7, alpha=1.0 \n",
      "[CV]  n_estimators=10, max_depth=15, learning_rate=0.001, colsample_bytree=0.7, alpha=1.0, total=   0.0s\n",
      "[CV] n_estimators=10, max_depth=15, learning_rate=0.001, colsample_bytree=0.7, alpha=1.0 \n",
      "[CV]  n_estimators=10, max_depth=15, learning_rate=0.001, colsample_bytree=0.7, alpha=1.0, total=   0.0s\n",
      "[CV] n_estimators=10, max_depth=15, learning_rate=0.001, colsample_bytree=0.7, alpha=1.0 \n",
      "[CV]  n_estimators=10, max_depth=15, learning_rate=0.001, colsample_bytree=0.7, alpha=1.0, total=   0.0s\n",
      "[CV] n_estimators=10, max_depth=15, learning_rate=0.2, colsample_bytree=0.9, alpha=0.5 \n",
      "[CV]  n_estimators=10, max_depth=15, learning_rate=0.2, colsample_bytree=0.9, alpha=0.5, total=   0.0s\n",
      "[CV] n_estimators=10, max_depth=15, learning_rate=0.2, colsample_bytree=0.9, alpha=0.5 \n"
     ]
    },
    {
     "name": "stderr",
     "output_type": "stream",
     "text": [
      "C:\\ProgramData\\Anaconda3\\lib\\site-packages\\xgboost\\core.py:587: FutureWarning: Series.base is deprecated and will be removed in a future version\n",
      "  if getattr(data, 'base', None) is not None and \\\n",
      "C:\\ProgramData\\Anaconda3\\lib\\site-packages\\xgboost\\core.py:587: FutureWarning: Series.base is deprecated and will be removed in a future version\n",
      "  if getattr(data, 'base', None) is not None and \\\n",
      "C:\\ProgramData\\Anaconda3\\lib\\site-packages\\xgboost\\core.py:587: FutureWarning: Series.base is deprecated and will be removed in a future version\n",
      "  if getattr(data, 'base', None) is not None and \\\n"
     ]
    },
    {
     "name": "stdout",
     "output_type": "stream",
     "text": [
      "[CV]  n_estimators=10, max_depth=15, learning_rate=0.2, colsample_bytree=0.9, alpha=0.5, total=   0.0s\n",
      "[CV] n_estimators=10, max_depth=15, learning_rate=0.2, colsample_bytree=0.9, alpha=0.5 \n",
      "[CV]  n_estimators=10, max_depth=15, learning_rate=0.2, colsample_bytree=0.9, alpha=0.5, total=   0.0s\n",
      "[CV] n_estimators=10, max_depth=15, learning_rate=0.2, colsample_bytree=0.9, alpha=0.5 \n",
      "[CV]  n_estimators=10, max_depth=15, learning_rate=0.2, colsample_bytree=0.9, alpha=0.5, total=   0.0s\n",
      "[CV] n_estimators=10, max_depth=15, learning_rate=0.2, colsample_bytree=0.9, alpha=0.5 \n",
      "[CV]  n_estimators=10, max_depth=15, learning_rate=0.2, colsample_bytree=0.9, alpha=0.5, total=   0.0s\n",
      "[CV] n_estimators=50, max_depth=5, learning_rate=0.001, colsample_bytree=0.9, alpha=10 \n"
     ]
    },
    {
     "name": "stderr",
     "output_type": "stream",
     "text": [
      "C:\\ProgramData\\Anaconda3\\lib\\site-packages\\xgboost\\core.py:587: FutureWarning: Series.base is deprecated and will be removed in a future version\n",
      "  if getattr(data, 'base', None) is not None and \\\n",
      "C:\\ProgramData\\Anaconda3\\lib\\site-packages\\xgboost\\core.py:587: FutureWarning: Series.base is deprecated and will be removed in a future version\n",
      "  if getattr(data, 'base', None) is not None and \\\n"
     ]
    },
    {
     "name": "stdout",
     "output_type": "stream",
     "text": [
      "[CV]  n_estimators=50, max_depth=5, learning_rate=0.001, colsample_bytree=0.9, alpha=10, total=   0.0s\n",
      "[CV] n_estimators=50, max_depth=5, learning_rate=0.001, colsample_bytree=0.9, alpha=10 \n",
      "[CV]  n_estimators=50, max_depth=5, learning_rate=0.001, colsample_bytree=0.9, alpha=10, total=   0.0s\n",
      "[CV] n_estimators=50, max_depth=5, learning_rate=0.001, colsample_bytree=0.9, alpha=10 \n"
     ]
    },
    {
     "name": "stderr",
     "output_type": "stream",
     "text": [
      "C:\\ProgramData\\Anaconda3\\lib\\site-packages\\xgboost\\core.py:587: FutureWarning: Series.base is deprecated and will be removed in a future version\n",
      "  if getattr(data, 'base', None) is not None and \\\n",
      "C:\\ProgramData\\Anaconda3\\lib\\site-packages\\xgboost\\core.py:587: FutureWarning: Series.base is deprecated and will be removed in a future version\n",
      "  if getattr(data, 'base', None) is not None and \\\n"
     ]
    },
    {
     "name": "stdout",
     "output_type": "stream",
     "text": [
      "[CV]  n_estimators=50, max_depth=5, learning_rate=0.001, colsample_bytree=0.9, alpha=10, total=   0.0s\n",
      "[CV] n_estimators=50, max_depth=5, learning_rate=0.001, colsample_bytree=0.9, alpha=10 \n",
      "[CV]  n_estimators=50, max_depth=5, learning_rate=0.001, colsample_bytree=0.9, alpha=10, total=   0.0s\n",
      "[CV] n_estimators=50, max_depth=5, learning_rate=0.001, colsample_bytree=0.9, alpha=10 \n"
     ]
    },
    {
     "name": "stderr",
     "output_type": "stream",
     "text": [
      "C:\\ProgramData\\Anaconda3\\lib\\site-packages\\xgboost\\core.py:587: FutureWarning: Series.base is deprecated and will be removed in a future version\n",
      "  if getattr(data, 'base', None) is not None and \\\n",
      "C:\\ProgramData\\Anaconda3\\lib\\site-packages\\xgboost\\core.py:587: FutureWarning: Series.base is deprecated and will be removed in a future version\n",
      "  if getattr(data, 'base', None) is not None and \\\n"
     ]
    },
    {
     "name": "stdout",
     "output_type": "stream",
     "text": [
      "[CV]  n_estimators=50, max_depth=5, learning_rate=0.001, colsample_bytree=0.9, alpha=10, total=   0.0s\n",
      "[CV] n_estimators=50, max_depth=5, learning_rate=0.2, colsample_bytree=0.6, alpha=1.0 \n",
      "[CV]  n_estimators=50, max_depth=5, learning_rate=0.2, colsample_bytree=0.6, alpha=1.0, total=   0.0s\n",
      "[CV] n_estimators=50, max_depth=5, learning_rate=0.2, colsample_bytree=0.6, alpha=1.0 \n"
     ]
    },
    {
     "name": "stderr",
     "output_type": "stream",
     "text": [
      "C:\\ProgramData\\Anaconda3\\lib\\site-packages\\xgboost\\core.py:587: FutureWarning: Series.base is deprecated and will be removed in a future version\n",
      "  if getattr(data, 'base', None) is not None and \\\n",
      "C:\\ProgramData\\Anaconda3\\lib\\site-packages\\xgboost\\core.py:587: FutureWarning: Series.base is deprecated and will be removed in a future version\n",
      "  if getattr(data, 'base', None) is not None and \\\n"
     ]
    },
    {
     "name": "stdout",
     "output_type": "stream",
     "text": [
      "[CV]  n_estimators=50, max_depth=5, learning_rate=0.2, colsample_bytree=0.6, alpha=1.0, total=   0.0s\n",
      "[CV] n_estimators=50, max_depth=5, learning_rate=0.2, colsample_bytree=0.6, alpha=1.0 \n",
      "[CV]  n_estimators=50, max_depth=5, learning_rate=0.2, colsample_bytree=0.6, alpha=1.0, total=   0.0s\n",
      "[CV] n_estimators=50, max_depth=5, learning_rate=0.2, colsample_bytree=0.6, alpha=1.0 \n"
     ]
    },
    {
     "name": "stderr",
     "output_type": "stream",
     "text": [
      "C:\\ProgramData\\Anaconda3\\lib\\site-packages\\xgboost\\core.py:587: FutureWarning: Series.base is deprecated and will be removed in a future version\n",
      "  if getattr(data, 'base', None) is not None and \\\n",
      "C:\\ProgramData\\Anaconda3\\lib\\site-packages\\xgboost\\core.py:587: FutureWarning: Series.base is deprecated and will be removed in a future version\n",
      "  if getattr(data, 'base', None) is not None and \\\n"
     ]
    },
    {
     "name": "stdout",
     "output_type": "stream",
     "text": [
      "[CV]  n_estimators=50, max_depth=5, learning_rate=0.2, colsample_bytree=0.6, alpha=1.0, total=   0.0s\n",
      "[CV] n_estimators=50, max_depth=5, learning_rate=0.2, colsample_bytree=0.6, alpha=1.0 \n",
      "[CV]  n_estimators=50, max_depth=5, learning_rate=0.2, colsample_bytree=0.6, alpha=1.0, total=   0.0s\n"
     ]
    },
    {
     "name": "stderr",
     "output_type": "stream",
     "text": [
      "C:\\ProgramData\\Anaconda3\\lib\\site-packages\\xgboost\\core.py:587: FutureWarning: Series.base is deprecated and will be removed in a future version\n",
      "  if getattr(data, 'base', None) is not None and \\\n",
      "[Parallel(n_jobs=1)]: Done 100 out of 100 | elapsed:    9.3s finished\n"
     ]
    },
    {
     "data": {
      "text/plain": [
       "RandomizedSearchCV(cv=5, error_score='raise',\n",
       "          estimator=XGBRegressor(base_score=0.5, booster='gbtree', colsample_bylevel=1,\n",
       "       colsample_bytree=1, gamma=0, importance_type='gain',\n",
       "       learning_rate=0.1, max_delta_step=0, max_depth=3,\n",
       "       min_child_weight=1, missing=None, n_estimators=100, n_jobs=1,\n",
       "       nthread=None, objective='reg:linear', random_state=0, reg_alpha=0,\n",
       "       reg_lambda=1, scale_pos_weight=1, seed=None, silent=True,\n",
       "       subsample=1),\n",
       "          fit_params=None, iid=True, n_iter=20, n_jobs=1,\n",
       "          param_distributions={'max_depth': [5, 8, 10, 15], 'learning_rate': [0.001, 0.01, 0.1, 0.2], 'colsample_bytree': [0.4, 0.5, 0.6, 0.7, 0.8, 0.9], 'alpha': [0, 0.5, 1.0, 5, 10], 'n_estimators': [10, 20, 30, 40, 50]},\n",
       "          pre_dispatch='2*n_jobs', random_state=42, refit=False,\n",
       "          return_train_score='warn', scoring=None, verbose=2)"
      ]
     },
     "execution_count": 13,
     "metadata": {},
     "output_type": "execute_result"
    }
   ],
   "source": [
    "import pandas as pd\n",
    "import os\n",
    "import random\n",
    "import numpy as np\n",
    "from sklearn.model_selection import train_test_split\n",
    "import math\n",
    "import matplotlib.pyplot as plt\n",
    "\n",
    "\n",
    "filename = 'C:/Users/endwy/Documents/Columbia MSBA/Spring 2019/E4524 - Analytics in Practice/Data/Csv/a_test.csv'\n",
    "df2 = pd.read_csv(filename, header=0)\n",
    "df2=df2.drop(columns=(['Unnamed: 0','Treated']))\n",
    "\n",
    "df2['Treatment $'] = np.log1p(df2['Treatment $'])\n",
    "\n",
    "train, test = train_test_split(df2, test_size = 0.25,random_state=1)\n",
    "x_train = train.drop(['Treatment Success(%)'],axis=1)\n",
    "y_train = train['Treatment Success(%)']\n",
    "x_test = test.drop(['Treatment Success(%)'],axis=1)\n",
    "y_test = test['Treatment Success(%)']\n",
    "\n",
    "import xgboost as xgb\n",
    "from sklearn.metrics import mean_squared_error\n",
    "from sklearn.model_selection import RandomizedSearchCV\n",
    "\n",
    "#RandomizedSearch for best patameters\n",
    "clf = xgb.XGBRegressor(objective ='reg:linear')\n",
    "\n",
    "param_grid = {\n",
    "        'max_depth': [5, 8, 10, 15],\n",
    "        'learning_rate': [0.001, 0.01, 0.1, 0.2],\n",
    "        'colsample_bytree': [0.4, 0.5, 0.6, 0.7, 0.8, 0.9],\n",
    "        'alpha': [0, 0.5, 1.0, 5, 10],\n",
    "        'n_estimators': [10,20,30,40,50]}\n",
    "\n",
    "\n",
    "rs_clf = RandomizedSearchCV(clf, param_grid, n_iter=20,\n",
    "                            n_jobs=1, verbose=2, cv=5,\n",
    "                            refit=False, random_state=42)\n",
    "print(\"Randomized search..\")\n",
    "rs_clf.fit(x_train, y_train)"
   ]
  },
  {
   "cell_type": "code",
   "execution_count": 14,
   "metadata": {},
   "outputs": [
    {
     "name": "stderr",
     "output_type": "stream",
     "text": [
      "C:\\ProgramData\\Anaconda3\\lib\\site-packages\\xgboost\\core.py:587: FutureWarning: Series.base is deprecated and will be removed in a future version\n",
      "  if getattr(data, 'base', None) is not None and \\\n",
      "C:\\ProgramData\\Anaconda3\\lib\\site-packages\\xgboost\\core.py:588: FutureWarning: Series.base is deprecated and will be removed in a future version\n",
      "  data.base is not None and isinstance(data, np.ndarray) \\\n"
     ]
    },
    {
     "name": "stdout",
     "output_type": "stream",
     "text": [
      "RMSE: 7.042370\n"
     ]
    }
   ],
   "source": [
    "xg_reg2 = xgb.XGBRegressor(objective ='reg:linear', colsample_bytree = 1, learning_rate = 0.1,\n",
    "                max_depth = 3, alpha = 1, n_estimators = 100)\n",
    "\n",
    "xg_reg2.fit(x_train,y_train)\n",
    "preds_model = xg_reg2.predict(x_test)\n",
    "\n",
    "rmse = math.sqrt(mean_squared_error(y_test, preds_model))\n",
    "print(\"RMSE: %f\" % (rmse))"
   ]
  },
  {
   "cell_type": "code",
   "execution_count": 16,
   "metadata": {},
   "outputs": [
    {
     "data": {
      "image/png": "[encoded data removed]",
      "text/plain": [
       "<Figure size 360x360 with 1 Axes>"
      ]
     },
     "metadata": {
      "needs_background": "light"
     },
     "output_type": "display_data"
    }
   ],
   "source": [
    "xgb.plot_importance(xg_reg2)\n",
    "plt.rcParams['figure.figsize'] = [5, 5]\n",
    "plt.show()"
   ]
  }
 ],
 "metadata": {
  "kernelspec": {
   "display_name": "Python 3",
   "language": "python",
   "name": "python3"
  },
  "language_info": {
   "codemirror_mode": {
    "name": "ipython",
    "version": 3
   },
   "file_extension": ".py",
   "mimetype": "text/x-python",
   "name": "python",
   "nbconvert_exporter": "python",
   "pygments_lexer": "ipython3",
   "version": "3.7.0"
  }
 },
 "nbformat": 4,
 "nbformat_minor": 2
}
